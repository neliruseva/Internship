{
 "cells": [
  {
   "cell_type": "code",
   "execution_count": 2,
   "id": "03272fe9",
   "metadata": {},
   "outputs": [
    {
     "name": "stdout",
     "output_type": "stream",
     "text": [
      "Requirement already satisfied: selenium in c:\\users\\nelir\\anaconda3\\lib\\site-packages (4.15.2)\n",
      "Requirement already satisfied: trio-websocket~=0.9 in c:\\users\\nelir\\anaconda3\\lib\\site-packages (from selenium) (0.11.1)\n",
      "Requirement already satisfied: trio~=0.17 in c:\\users\\nelir\\anaconda3\\lib\\site-packages (from selenium) (0.22.2)\n",
      "Requirement already satisfied: certifi>=2021.10.8 in c:\\users\\nelir\\anaconda3\\lib\\site-packages (from selenium) (2022.12.7)\n",
      "Requirement already satisfied: urllib3[socks]<3,>=1.26 in c:\\users\\nelir\\anaconda3\\lib\\site-packages (from selenium) (1.26.14)\n",
      "Requirement already satisfied: cffi>=1.14 in c:\\users\\nelir\\anaconda3\\lib\\site-packages (from trio~=0.17->selenium) (1.15.1)\n",
      "Requirement already satisfied: outcome in c:\\users\\nelir\\anaconda3\\lib\\site-packages (from trio~=0.17->selenium) (1.3.0.post0)\n",
      "Requirement already satisfied: sortedcontainers in c:\\users\\nelir\\anaconda3\\lib\\site-packages (from trio~=0.17->selenium) (2.4.0)\n",
      "Requirement already satisfied: sniffio in c:\\users\\nelir\\anaconda3\\lib\\site-packages (from trio~=0.17->selenium) (1.2.0)\n",
      "Requirement already satisfied: idna in c:\\users\\nelir\\anaconda3\\lib\\site-packages (from trio~=0.17->selenium) (3.4)\n",
      "Requirement already satisfied: attrs>=20.1.0 in c:\\users\\nelir\\anaconda3\\lib\\site-packages (from trio~=0.17->selenium) (22.1.0)\n",
      "Requirement already satisfied: exceptiongroup>=1.0.0rc9 in c:\\users\\nelir\\anaconda3\\lib\\site-packages (from trio~=0.17->selenium) (1.1.3)\n",
      "Requirement already satisfied: wsproto>=0.14 in c:\\users\\nelir\\anaconda3\\lib\\site-packages (from trio-websocket~=0.9->selenium) (1.2.0)\n",
      "Requirement already satisfied: PySocks!=1.5.7,<2.0,>=1.5.6 in c:\\users\\nelir\\anaconda3\\lib\\site-packages (from urllib3[socks]<3,>=1.26->selenium) (1.7.1)\n",
      "Requirement already satisfied: pycparser in c:\\users\\nelir\\anaconda3\\lib\\site-packages (from cffi>=1.14->trio~=0.17->selenium) (2.21)\n",
      "Requirement already satisfied: h11<1,>=0.9.0 in c:\\users\\nelir\\anaconda3\\lib\\site-packages (from wsproto>=0.14->trio-websocket~=0.9->selenium) (0.14.0)\n"
     ]
    }
   ],
   "source": [
    "!pip install selenium"
   ]
  },
  {
   "cell_type": "code",
   "execution_count": 3,
   "id": "fbb8b7fe",
   "metadata": {},
   "outputs": [],
   "source": [
    "#import all required libraries\n",
    "\n",
    "import selenium\n",
    "from selenium import webdriver\n",
    "import pandas as pd\n",
    "from selenium.webdriver.common.by import By\n",
    "import warnings\n",
    "warnings.filterwarnings(\"ignore\")\n",
    "import time"
   ]
  },
  {
   "cell_type": "markdown",
   "id": "cdc8745a",
   "metadata": {},
   "source": [
    "# Q1: Write a python program to scrape data for “Data Analyst” Job position in “Bangalore” location. You have to scrape the job-title, job-location, company_name, experience_required. You have to scrape first 10 jobs data.\n",
    "This task will be done in following steps:\n",
    "1. First get the webpage https://www.shine.com/\n",
    "2. Enter “Data Analyst” in “Job title, Skills” field and enter “Bangalore” in “enter the location” field.\n",
    "3. Then click the search button.\n",
    "4. Then scrape the data for the first 10 jobs results you get.\n",
    "5. Finally create a dataframe of the scraped data."
   ]
  },
  {
   "cell_type": "code",
   "execution_count": 123,
   "id": "0961925f",
   "metadata": {},
   "outputs": [],
   "source": [
    "#connecting with the webdriver\n",
    "\n",
    "driver = webdriver.Chrome()"
   ]
  },
  {
   "cell_type": "code",
   "execution_count": 124,
   "id": "25a114a3",
   "metadata": {},
   "outputs": [],
   "source": [
    "#opening the www.shine.com website on automated chrome browser\n",
    "\n",
    "driver.get('https://wwww.shine.com/')"
   ]
  },
  {
   "cell_type": "code",
   "execution_count": 125,
   "id": "886cfc91",
   "metadata": {},
   "outputs": [],
   "source": [
    "#remove the pop up page\n",
    "pop_up_page =driver.find_element(By.XPATH,'/html/body/div/div[2]/div/div/button')\n",
    "pop_up_page.click()"
   ]
  },
  {
   "cell_type": "code",
   "execution_count": null,
   "id": "071c4656",
   "metadata": {},
   "outputs": [],
   "source": [
    "#click on the empty field\n",
    "\n",
    "click_emp=driver.find_element(By.XPATH, \"/html/body/div/header[2]/div[2]/div[1]/input\")\n",
    "click_emp.click()"
   ]
  },
  {
   "cell_type": "code",
   "execution_count": 127,
   "id": "6f444921",
   "metadata": {},
   "outputs": [],
   "source": [
    "#entering designation as required in the question\n",
    "\n",
    "designation=driver.find_element(By.XPATH, \"/html/body/div/div[4]/div/div[2]/div[2]/div/form/div/div[1]/ul/li[1]/div/input\")\n",
    "designation.send_keys(\"Data Analyst\")"
   ]
  },
  {
   "cell_type": "code",
   "execution_count": 129,
   "id": "9610d7eb",
   "metadata": {},
   "outputs": [],
   "source": [
    "#entering location Banglore in location search bar using xpath\n",
    "\n",
    "location=driver.find_element(By.XPATH, \"/html/body/div/div[4]/div/div[2]/div[2]/div/form/div/div[1]/ul/li[2]/div/input\")\n",
    "location.send_keys(\"Bangalore\")"
   ]
  },
  {
   "cell_type": "code",
   "execution_count": 130,
   "id": "5b10e208",
   "metadata": {},
   "outputs": [],
   "source": [
    "#clicking on search bar button\n",
    "\n",
    "search=driver.find_element(By.XPATH,\"/html/body/div/div[4]/div/div[2]/div[2]/div/form/div/div[2]/div/button\")\n",
    "search.click()"
   ]
  },
  {
   "cell_type": "code",
   "execution_count": 131,
   "id": "ecd13977",
   "metadata": {},
   "outputs": [],
   "source": [
    "#creating empty lists\n",
    "\n",
    "job_title=[]\n",
    "job_location=[]\n",
    "company_name=[]\n",
    "experience_required=[]"
   ]
  },
  {
   "cell_type": "code",
   "execution_count": 135,
   "id": "3c766867",
   "metadata": {},
   "outputs": [
    {
     "data": {
      "text/plain": [
       "[<selenium.webdriver.remote.webelement.WebElement (session=\"a19a77825e00e12b588d142fa0d9a3a5\", element=\"AA9757B6EC2140B5C77626B1773B449B_element_1229\")>,\n",
       " <selenium.webdriver.remote.webelement.WebElement (session=\"a19a77825e00e12b588d142fa0d9a3a5\", element=\"AA9757B6EC2140B5C77626B1773B449B_element_1265\")>,\n",
       " <selenium.webdriver.remote.webelement.WebElement (session=\"a19a77825e00e12b588d142fa0d9a3a5\", element=\"AA9757B6EC2140B5C77626B1773B449B_element_1306\")>,\n",
       " <selenium.webdriver.remote.webelement.WebElement (session=\"a19a77825e00e12b588d142fa0d9a3a5\", element=\"AA9757B6EC2140B5C77626B1773B449B_element_1344\")>,\n",
       " <selenium.webdriver.remote.webelement.WebElement (session=\"a19a77825e00e12b588d142fa0d9a3a5\", element=\"AA9757B6EC2140B5C77626B1773B449B_element_1390\")>,\n",
       " <selenium.webdriver.remote.webelement.WebElement (session=\"a19a77825e00e12b588d142fa0d9a3a5\", element=\"AA9757B6EC2140B5C77626B1773B449B_element_1428\")>,\n",
       " <selenium.webdriver.remote.webelement.WebElement (session=\"a19a77825e00e12b588d142fa0d9a3a5\", element=\"AA9757B6EC2140B5C77626B1773B449B_element_1476\")>,\n",
       " <selenium.webdriver.remote.webelement.WebElement (session=\"a19a77825e00e12b588d142fa0d9a3a5\", element=\"AA9757B6EC2140B5C77626B1773B449B_element_1508\")>,\n",
       " <selenium.webdriver.remote.webelement.WebElement (session=\"a19a77825e00e12b588d142fa0d9a3a5\", element=\"AA9757B6EC2140B5C77626B1773B449B_element_1547\")>,\n",
       " <selenium.webdriver.remote.webelement.WebElement (session=\"a19a77825e00e12b588d142fa0d9a3a5\", element=\"AA9757B6EC2140B5C77626B1773B449B_element_1579\")>]"
      ]
     },
     "execution_count": 135,
     "metadata": {},
     "output_type": "execute_result"
    }
   ],
   "source": [
    "#scraping the first 10 job titles\n",
    "\n",
    "title=driver.find_elements(By.XPATH,'//h2[@itemprop=\"name\"]')\n",
    "\n",
    "title[0:10]"
   ]
  },
  {
   "cell_type": "code",
   "execution_count": 136,
   "id": "fd3bd1ee",
   "metadata": {},
   "outputs": [
    {
     "data": {
      "text/plain": [
       "['Data Analyst Vacancy',\n",
       " 'Data Analyst Vacancy',\n",
       " 'Clinical Data Analyst',\n",
       " 'Data Analyst Urgent Recruitment',\n",
       " 'Data Analyst Urgent Recruitment',\n",
       " 'Data Analyst Urgent Recruitment',\n",
       " 'Data Analyst 1',\n",
       " 'Clinical Data Analyst',\n",
       " 'Data Analytics - Analyst',\n",
       " 'Hiring For Data Analyst']"
      ]
     },
     "execution_count": 136,
     "metadata": {},
     "output_type": "execute_result"
    }
   ],
   "source": [
    "for i in title[0:10]:\n",
    "    job_title.append(i.text)\n",
    "\n",
    "job_title"
   ]
  },
  {
   "cell_type": "code",
   "execution_count": 138,
   "id": "8c330c24",
   "metadata": {},
   "outputs": [
    {
     "data": {
      "text/plain": [
       "[<selenium.webdriver.remote.webelement.WebElement (session=\"a19a77825e00e12b588d142fa0d9a3a5\", element=\"AA9757B6EC2140B5C77626B1773B449B_element_1239\")>,\n",
       " <selenium.webdriver.remote.webelement.WebElement (session=\"a19a77825e00e12b588d142fa0d9a3a5\", element=\"AA9757B6EC2140B5C77626B1773B449B_element_1276\")>,\n",
       " <selenium.webdriver.remote.webelement.WebElement (session=\"a19a77825e00e12b588d142fa0d9a3a5\", element=\"AA9757B6EC2140B5C77626B1773B449B_element_1317\")>,\n",
       " <selenium.webdriver.remote.webelement.WebElement (session=\"a19a77825e00e12b588d142fa0d9a3a5\", element=\"AA9757B6EC2140B5C77626B1773B449B_element_1355\")>,\n",
       " <selenium.webdriver.remote.webelement.WebElement (session=\"a19a77825e00e12b588d142fa0d9a3a5\", element=\"AA9757B6EC2140B5C77626B1773B449B_element_1401\")>,\n",
       " <selenium.webdriver.remote.webelement.WebElement (session=\"a19a77825e00e12b588d142fa0d9a3a5\", element=\"AA9757B6EC2140B5C77626B1773B449B_element_1439\")>,\n",
       " <selenium.webdriver.remote.webelement.WebElement (session=\"a19a77825e00e12b588d142fa0d9a3a5\", element=\"AA9757B6EC2140B5C77626B1773B449B_element_1484\")>,\n",
       " <selenium.webdriver.remote.webelement.WebElement (session=\"a19a77825e00e12b588d142fa0d9a3a5\", element=\"AA9757B6EC2140B5C77626B1773B449B_element_1519\")>,\n",
       " <selenium.webdriver.remote.webelement.WebElement (session=\"a19a77825e00e12b588d142fa0d9a3a5\", element=\"AA9757B6EC2140B5C77626B1773B449B_element_1555\")>,\n",
       " <selenium.webdriver.remote.webelement.WebElement (session=\"a19a77825e00e12b588d142fa0d9a3a5\", element=\"AA9757B6EC2140B5C77626B1773B449B_element_1590\")>]"
      ]
     },
     "execution_count": 138,
     "metadata": {},
     "output_type": "execute_result"
    }
   ],
   "source": [
    "#scraping the first 10 job locations\n",
    "\n",
    "location=driver.find_elements(By.XPATH, '//div[@class=\" jobCard_jobCard_lists_item__YxRkV jobCard_locationIcon__zrWt2\"]')\n",
    "\n",
    "location[0:10]"
   ]
  },
  {
   "cell_type": "code",
   "execution_count": 139,
   "id": "84548af9",
   "metadata": {},
   "outputs": [
    {
     "data": {
      "text/plain": [
       "['Bangalore\\n+14',\n",
       " 'Bangalore\\n+14',\n",
       " 'Bangalore\\n+4',\n",
       " 'Bangalore\\n+14',\n",
       " 'Bangalore\\n+14',\n",
       " 'Bangalore\\n+14',\n",
       " 'Bangalore',\n",
       " 'Bangalore\\n+6',\n",
       " 'Bangalore',\n",
       " 'Bangalore\\n+14']"
      ]
     },
     "execution_count": 139,
     "metadata": {},
     "output_type": "execute_result"
    }
   ],
   "source": [
    "for i in location[0:10]:\n",
    "    job_location.append(i.text)\n",
    "    \n",
    "job_location "
   ]
  },
  {
   "cell_type": "code",
   "execution_count": 140,
   "id": "0cb30b0e",
   "metadata": {},
   "outputs": [
    {
     "data": {
      "text/plain": [
       "[<selenium.webdriver.remote.webelement.WebElement (session=\"a19a77825e00e12b588d142fa0d9a3a5\", element=\"AA9757B6EC2140B5C77626B1773B449B_element_1232\")>,\n",
       " <selenium.webdriver.remote.webelement.WebElement (session=\"a19a77825e00e12b588d142fa0d9a3a5\", element=\"AA9757B6EC2140B5C77626B1773B449B_element_1268\")>,\n",
       " <selenium.webdriver.remote.webelement.WebElement (session=\"a19a77825e00e12b588d142fa0d9a3a5\", element=\"AA9757B6EC2140B5C77626B1773B449B_element_1309\")>,\n",
       " <selenium.webdriver.remote.webelement.WebElement (session=\"a19a77825e00e12b588d142fa0d9a3a5\", element=\"AA9757B6EC2140B5C77626B1773B449B_element_1347\")>,\n",
       " <selenium.webdriver.remote.webelement.WebElement (session=\"a19a77825e00e12b588d142fa0d9a3a5\", element=\"AA9757B6EC2140B5C77626B1773B449B_element_1393\")>,\n",
       " <selenium.webdriver.remote.webelement.WebElement (session=\"a19a77825e00e12b588d142fa0d9a3a5\", element=\"AA9757B6EC2140B5C77626B1773B449B_element_1431\")>,\n",
       " <selenium.webdriver.remote.webelement.WebElement (session=\"a19a77825e00e12b588d142fa0d9a3a5\", element=\"AA9757B6EC2140B5C77626B1773B449B_element_1479\")>,\n",
       " <selenium.webdriver.remote.webelement.WebElement (session=\"a19a77825e00e12b588d142fa0d9a3a5\", element=\"AA9757B6EC2140B5C77626B1773B449B_element_1511\")>,\n",
       " <selenium.webdriver.remote.webelement.WebElement (session=\"a19a77825e00e12b588d142fa0d9a3a5\", element=\"AA9757B6EC2140B5C77626B1773B449B_element_1550\")>,\n",
       " <selenium.webdriver.remote.webelement.WebElement (session=\"a19a77825e00e12b588d142fa0d9a3a5\", element=\"AA9757B6EC2140B5C77626B1773B449B_element_1582\")>]"
      ]
     },
     "execution_count": 140,
     "metadata": {},
     "output_type": "execute_result"
    }
   ],
   "source": [
    "#scraping the first 10 company names\n",
    "\n",
    "company=driver.find_elements(By.XPATH, '//div[@class=\"jobCard_jobCard_cName__mYnow\"]')\n",
    "\n",
    "company[0:10]"
   ]
  },
  {
   "cell_type": "code",
   "execution_count": 141,
   "id": "354357a1",
   "metadata": {},
   "outputs": [
    {
     "data": {
      "text/plain": [
       "['divya interprises',\n",
       " 'divya interprises',\n",
       " 'quiscon biotech',\n",
       " 'divya interprises',\n",
       " 'divya interprises',\n",
       " 'divya interprises',\n",
       " 'merck ltd',\n",
       " 'techno endura',\n",
       " 'jpmorgan',\n",
       " 'divya interprises']"
      ]
     },
     "execution_count": 141,
     "metadata": {},
     "output_type": "execute_result"
    }
   ],
   "source": [
    "for i in company[0:10]:\n",
    "    company_name.append(i.text)\n",
    "    \n",
    "company_name "
   ]
  },
  {
   "cell_type": "code",
   "execution_count": 142,
   "id": "e9bbb23e",
   "metadata": {},
   "outputs": [
    {
     "data": {
      "text/plain": [
       "[<selenium.webdriver.remote.webelement.WebElement (session=\"a19a77825e00e12b588d142fa0d9a3a5\", element=\"AA9757B6EC2140B5C77626B1773B449B_element_1234\")>,\n",
       " <selenium.webdriver.remote.webelement.WebElement (session=\"a19a77825e00e12b588d142fa0d9a3a5\", element=\"AA9757B6EC2140B5C77626B1773B449B_element_1270\")>,\n",
       " <selenium.webdriver.remote.webelement.WebElement (session=\"a19a77825e00e12b588d142fa0d9a3a5\", element=\"AA9757B6EC2140B5C77626B1773B449B_element_1311\")>,\n",
       " <selenium.webdriver.remote.webelement.WebElement (session=\"a19a77825e00e12b588d142fa0d9a3a5\", element=\"AA9757B6EC2140B5C77626B1773B449B_element_1349\")>,\n",
       " <selenium.webdriver.remote.webelement.WebElement (session=\"a19a77825e00e12b588d142fa0d9a3a5\", element=\"AA9757B6EC2140B5C77626B1773B449B_element_1395\")>,\n",
       " <selenium.webdriver.remote.webelement.WebElement (session=\"a19a77825e00e12b588d142fa0d9a3a5\", element=\"AA9757B6EC2140B5C77626B1773B449B_element_1433\")>,\n",
       " <selenium.webdriver.remote.webelement.WebElement (session=\"a19a77825e00e12b588d142fa0d9a3a5\", element=\"AA9757B6EC2140B5C77626B1773B449B_element_1481\")>,\n",
       " <selenium.webdriver.remote.webelement.WebElement (session=\"a19a77825e00e12b588d142fa0d9a3a5\", element=\"AA9757B6EC2140B5C77626B1773B449B_element_1513\")>,\n",
       " <selenium.webdriver.remote.webelement.WebElement (session=\"a19a77825e00e12b588d142fa0d9a3a5\", element=\"AA9757B6EC2140B5C77626B1773B449B_element_1552\")>,\n",
       " <selenium.webdriver.remote.webelement.WebElement (session=\"a19a77825e00e12b588d142fa0d9a3a5\", element=\"AA9757B6EC2140B5C77626B1773B449B_element_1584\")>]"
      ]
     },
     "execution_count": 142,
     "metadata": {},
     "output_type": "execute_result"
    }
   ],
   "source": [
    "#scraping the first 10 experience required\n",
    "\n",
    "experience=driver.find_elements(By.XPATH, '//div[@class=\" jobCard_jobCard_lists_item__YxRkV jobCard_jobIcon__3FB1t\"]')\n",
    "\n",
    "experience[0:10]"
   ]
  },
  {
   "cell_type": "code",
   "execution_count": 143,
   "id": "e9c878cb",
   "metadata": {},
   "outputs": [
    {
     "data": {
      "text/plain": [
       "['0 to 4 Yrs',\n",
       " '0 to 4 Yrs',\n",
       " '0 to 2 Yrs',\n",
       " '0 to 4 Yrs',\n",
       " '0 to 4 Yrs',\n",
       " '0 to 4 Yrs',\n",
       " '1 to 3 Yrs',\n",
       " '0 to 1 Yr',\n",
       " '0 to 4 Yrs',\n",
       " '0 to 4 Yrs']"
      ]
     },
     "execution_count": 143,
     "metadata": {},
     "output_type": "execute_result"
    }
   ],
   "source": [
    "for i in experience[0:10]:\n",
    "    experience_required.append(i.text)\n",
    "    \n",
    "experience_required"
   ]
  },
  {
   "cell_type": "code",
   "execution_count": 144,
   "id": "edc2f733",
   "metadata": {},
   "outputs": [
    {
     "name": "stdout",
     "output_type": "stream",
     "text": [
      "10 10 10 10\n"
     ]
    }
   ],
   "source": [
    "print(len(job_title),len(job_location),len(company_name),len(experience_required))"
   ]
  },
  {
   "cell_type": "code",
   "execution_count": 145,
   "id": "de47cc25",
   "metadata": {},
   "outputs": [
    {
     "data": {
      "text/html": [
       "<div>\n",
       "<style scoped>\n",
       "    .dataframe tbody tr th:only-of-type {\n",
       "        vertical-align: middle;\n",
       "    }\n",
       "\n",
       "    .dataframe tbody tr th {\n",
       "        vertical-align: top;\n",
       "    }\n",
       "\n",
       "    .dataframe thead th {\n",
       "        text-align: right;\n",
       "    }\n",
       "</style>\n",
       "<table border=\"1\" class=\"dataframe\">\n",
       "  <thead>\n",
       "    <tr style=\"text-align: right;\">\n",
       "      <th></th>\n",
       "      <th>job_title</th>\n",
       "      <th>company_name</th>\n",
       "      <th>job_location</th>\n",
       "      <th>experience_required</th>\n",
       "    </tr>\n",
       "  </thead>\n",
       "  <tbody>\n",
       "    <tr>\n",
       "      <th>0</th>\n",
       "      <td>Data Analyst Vacancy</td>\n",
       "      <td>divya interprises</td>\n",
       "      <td>Bangalore\\n+14</td>\n",
       "      <td>0 to 4 Yrs</td>\n",
       "    </tr>\n",
       "    <tr>\n",
       "      <th>1</th>\n",
       "      <td>Data Analyst Vacancy</td>\n",
       "      <td>divya interprises</td>\n",
       "      <td>Bangalore\\n+14</td>\n",
       "      <td>0 to 4 Yrs</td>\n",
       "    </tr>\n",
       "    <tr>\n",
       "      <th>2</th>\n",
       "      <td>Clinical Data Analyst</td>\n",
       "      <td>quiscon biotech</td>\n",
       "      <td>Bangalore\\n+4</td>\n",
       "      <td>0 to 2 Yrs</td>\n",
       "    </tr>\n",
       "    <tr>\n",
       "      <th>3</th>\n",
       "      <td>Data Analyst Urgent Recruitment</td>\n",
       "      <td>divya interprises</td>\n",
       "      <td>Bangalore\\n+14</td>\n",
       "      <td>0 to 4 Yrs</td>\n",
       "    </tr>\n",
       "    <tr>\n",
       "      <th>4</th>\n",
       "      <td>Data Analyst Urgent Recruitment</td>\n",
       "      <td>divya interprises</td>\n",
       "      <td>Bangalore\\n+14</td>\n",
       "      <td>0 to 4 Yrs</td>\n",
       "    </tr>\n",
       "    <tr>\n",
       "      <th>5</th>\n",
       "      <td>Data Analyst Urgent Recruitment</td>\n",
       "      <td>divya interprises</td>\n",
       "      <td>Bangalore\\n+14</td>\n",
       "      <td>0 to 4 Yrs</td>\n",
       "    </tr>\n",
       "    <tr>\n",
       "      <th>6</th>\n",
       "      <td>Data Analyst 1</td>\n",
       "      <td>merck ltd</td>\n",
       "      <td>Bangalore</td>\n",
       "      <td>1 to 3 Yrs</td>\n",
       "    </tr>\n",
       "    <tr>\n",
       "      <th>7</th>\n",
       "      <td>Clinical Data Analyst</td>\n",
       "      <td>techno endura</td>\n",
       "      <td>Bangalore\\n+6</td>\n",
       "      <td>0 to 1 Yr</td>\n",
       "    </tr>\n",
       "    <tr>\n",
       "      <th>8</th>\n",
       "      <td>Data Analytics - Analyst</td>\n",
       "      <td>jpmorgan</td>\n",
       "      <td>Bangalore</td>\n",
       "      <td>0 to 4 Yrs</td>\n",
       "    </tr>\n",
       "    <tr>\n",
       "      <th>9</th>\n",
       "      <td>Hiring For Data Analyst</td>\n",
       "      <td>divya interprises</td>\n",
       "      <td>Bangalore\\n+14</td>\n",
       "      <td>0 to 4 Yrs</td>\n",
       "    </tr>\n",
       "  </tbody>\n",
       "</table>\n",
       "</div>"
      ],
      "text/plain": [
       "                         job_title       company_name    job_location  \\\n",
       "0             Data Analyst Vacancy  divya interprises  Bangalore\\n+14   \n",
       "1             Data Analyst Vacancy  divya interprises  Bangalore\\n+14   \n",
       "2            Clinical Data Analyst    quiscon biotech   Bangalore\\n+4   \n",
       "3  Data Analyst Urgent Recruitment  divya interprises  Bangalore\\n+14   \n",
       "4  Data Analyst Urgent Recruitment  divya interprises  Bangalore\\n+14   \n",
       "5  Data Analyst Urgent Recruitment  divya interprises  Bangalore\\n+14   \n",
       "6                   Data Analyst 1          merck ltd       Bangalore   \n",
       "7            Clinical Data Analyst      techno endura   Bangalore\\n+6   \n",
       "8         Data Analytics - Analyst           jpmorgan       Bangalore   \n",
       "9          Hiring For Data Analyst  divya interprises  Bangalore\\n+14   \n",
       "\n",
       "  experience_required  \n",
       "0          0 to 4 Yrs  \n",
       "1          0 to 4 Yrs  \n",
       "2          0 to 2 Yrs  \n",
       "3          0 to 4 Yrs  \n",
       "4          0 to 4 Yrs  \n",
       "5          0 to 4 Yrs  \n",
       "6          1 to 3 Yrs  \n",
       "7           0 to 1 Yr  \n",
       "8          0 to 4 Yrs  \n",
       "9          0 to 4 Yrs  "
      ]
     },
     "execution_count": 145,
     "metadata": {},
     "output_type": "execute_result"
    }
   ],
   "source": [
    "#creating DataFrame\n",
    "\n",
    "data = pd.DataFrame({'job_title':job_title,'company_name':company_name,'job_location':job_location,'experience_required':experience_required})\n",
    "\n",
    "data"
   ]
  },
  {
   "cell_type": "markdown",
   "id": "f0693180",
   "metadata": {},
   "source": [
    "# Q2: Write a python program to scrape data for “Data Scientist” Job position in “Bangalore” location. You have to scrape the job-title, job-location, company_name. You have to scrape first 10 jobs data.\n",
    "This task will be done in following steps:\n",
    "1. First get the webpage https://www.shine.com/\n",
    "2. Enter “Data Scientist” in “Job title, Skills” field and enter “Bangalore” in “enter the location” field.\n",
    "3. Then click the search button.\n",
    "4. Then scrape the data for the first 10 jobs results you get.\n",
    "5. Finally create a dataframe of the scraped data."
   ]
  },
  {
   "cell_type": "code",
   "execution_count": 146,
   "id": "40da8e9a",
   "metadata": {},
   "outputs": [],
   "source": [
    "#connecting with the webdriver\n",
    "\n",
    "driver=webdriver.Chrome()"
   ]
  },
  {
   "cell_type": "code",
   "execution_count": 148,
   "id": "05b75014",
   "metadata": {},
   "outputs": [],
   "source": [
    "#opening the www.shine.com website on automated chrome browser\n",
    "\n",
    "driver.get('https://www.shine.com/')"
   ]
  },
  {
   "cell_type": "code",
   "execution_count": 149,
   "id": "06e80fde",
   "metadata": {},
   "outputs": [],
   "source": [
    "#remove the pop up page\n",
    "pop_up_page =driver.find_element(By.XPATH,'/html/body/div/div[2]/div/div/button')\n",
    "pop_up_page.click()"
   ]
  },
  {
   "cell_type": "code",
   "execution_count": 152,
   "id": "6f59a372",
   "metadata": {},
   "outputs": [],
   "source": [
    "#click on the empty field\n",
    "\n",
    "click_emp=driver.find_element(By.XPATH, \"/html/body/div/header[2]/div[2]/div[1]/input\")\n",
    "click_emp.click()"
   ]
  },
  {
   "cell_type": "code",
   "execution_count": 157,
   "id": "a5861465",
   "metadata": {},
   "outputs": [],
   "source": [
    "#entering designation as required in the question\n",
    "\n",
    "designation1=driver.find_element(By.XPATH, \"/html/body/div/div[4]/div/div[2]/div[2]/div/form/div/div[1]/ul/li[1]/div/input\")\n",
    "designation1.send_keys(\"Data Scientist\")"
   ]
  },
  {
   "cell_type": "code",
   "execution_count": 158,
   "id": "56ef7f71",
   "metadata": {},
   "outputs": [],
   "source": [
    "#entering location Banglore in location search bar using xpath\n",
    "\n",
    "location1=driver.find_element(By.XPATH, \"/html/body/div/div[4]/div/div[2]/div[2]/div/form/div/div[1]/ul/li[2]/div/input\")\n",
    "location1.send_keys(\"Bangalore\")"
   ]
  },
  {
   "cell_type": "code",
   "execution_count": 160,
   "id": "ccddc04d",
   "metadata": {},
   "outputs": [],
   "source": [
    "#clicking on search bar button\n",
    "\n",
    "search1=driver.find_element(By.XPATH,\"/html/body/div/div[4]/div/div[2]/div[2]/div/form/div/div[2]/div/button\")\n",
    "search1.click()"
   ]
  },
  {
   "cell_type": "code",
   "execution_count": 161,
   "id": "ea39f356",
   "metadata": {},
   "outputs": [],
   "source": [
    "#creating empty lists\n",
    "\n",
    "job_title1=[]\n",
    "job_location1=[]\n",
    "company_name1=[]"
   ]
  },
  {
   "cell_type": "code",
   "execution_count": 162,
   "id": "4019cbbc",
   "metadata": {},
   "outputs": [
    {
     "data": {
      "text/plain": [
       "[<selenium.webdriver.remote.webelement.WebElement (session=\"c711e0a238416a1241e374e1705bc7b1\", element=\"CA701135CBF6BFE8AD6969CD21ACF840_element_2931\")>,\n",
       " <selenium.webdriver.remote.webelement.WebElement (session=\"c711e0a238416a1241e374e1705bc7b1\", element=\"CA701135CBF6BFE8AD6969CD21ACF840_element_2935\")>,\n",
       " <selenium.webdriver.remote.webelement.WebElement (session=\"c711e0a238416a1241e374e1705bc7b1\", element=\"CA701135CBF6BFE8AD6969CD21ACF840_element_2936\")>,\n",
       " <selenium.webdriver.remote.webelement.WebElement (session=\"c711e0a238416a1241e374e1705bc7b1\", element=\"CA701135CBF6BFE8AD6969CD21ACF840_element_2937\")>,\n",
       " <selenium.webdriver.remote.webelement.WebElement (session=\"c711e0a238416a1241e374e1705bc7b1\", element=\"CA701135CBF6BFE8AD6969CD21ACF840_element_2938\")>,\n",
       " <selenium.webdriver.remote.webelement.WebElement (session=\"c711e0a238416a1241e374e1705bc7b1\", element=\"CA701135CBF6BFE8AD6969CD21ACF840_element_2939\")>,\n",
       " <selenium.webdriver.remote.webelement.WebElement (session=\"c711e0a238416a1241e374e1705bc7b1\", element=\"CA701135CBF6BFE8AD6969CD21ACF840_element_2940\")>,\n",
       " <selenium.webdriver.remote.webelement.WebElement (session=\"c711e0a238416a1241e374e1705bc7b1\", element=\"CA701135CBF6BFE8AD6969CD21ACF840_element_2941\")>,\n",
       " <selenium.webdriver.remote.webelement.WebElement (session=\"c711e0a238416a1241e374e1705bc7b1\", element=\"CA701135CBF6BFE8AD6969CD21ACF840_element_2942\")>,\n",
       " <selenium.webdriver.remote.webelement.WebElement (session=\"c711e0a238416a1241e374e1705bc7b1\", element=\"CA701135CBF6BFE8AD6969CD21ACF840_element_2943\")>]"
      ]
     },
     "execution_count": 162,
     "metadata": {},
     "output_type": "execute_result"
    }
   ],
   "source": [
    "#scraping the first 10 job titles\n",
    "\n",
    "title1=driver.find_elements(By.XPATH,'//h2[@itemprop=\"name\"]')\n",
    "\n",
    "title1[0:10]"
   ]
  },
  {
   "cell_type": "code",
   "execution_count": 163,
   "id": "d489df80",
   "metadata": {},
   "outputs": [
    {
     "data": {
      "text/plain": [
       "['Data Scientist Vacancy',\n",
       " 'Data Scientist Urgent Recruitment',\n",
       " 'Data Scientist- Bangalore',\n",
       " 'Data Scientist AI ML CV',\n",
       " 'Data Scientist-Bangalore',\n",
       " 'Data Scientist AI ML NLP',\n",
       " 'Phd Data Scientist',\n",
       " 'Hiring For Data Scientist',\n",
       " 'Data Scientist',\n",
       " 'Staff Data Scientist & Team Lead']"
      ]
     },
     "execution_count": 163,
     "metadata": {},
     "output_type": "execute_result"
    }
   ],
   "source": [
    "for i in title1[0:10]:\n",
    "    job_title1.append(i.text)\n",
    "\n",
    "job_title1"
   ]
  },
  {
   "cell_type": "code",
   "execution_count": 165,
   "id": "c8c65ac6",
   "metadata": {},
   "outputs": [
    {
     "data": {
      "text/plain": [
       "[<selenium.webdriver.remote.webelement.WebElement (session=\"c711e0a238416a1241e374e1705bc7b1\", element=\"CA701135CBF6BFE8AD6969CD21ACF840_element_2455\")>,\n",
       " <selenium.webdriver.remote.webelement.WebElement (session=\"c711e0a238416a1241e374e1705bc7b1\", element=\"CA701135CBF6BFE8AD6969CD21ACF840_element_2457\")>,\n",
       " <selenium.webdriver.remote.webelement.WebElement (session=\"c711e0a238416a1241e374e1705bc7b1\", element=\"CA701135CBF6BFE8AD6969CD21ACF840_element_2963\")>,\n",
       " <selenium.webdriver.remote.webelement.WebElement (session=\"c711e0a238416a1241e374e1705bc7b1\", element=\"CA701135CBF6BFE8AD6969CD21ACF840_element_2964\")>,\n",
       " <selenium.webdriver.remote.webelement.WebElement (session=\"c711e0a238416a1241e374e1705bc7b1\", element=\"CA701135CBF6BFE8AD6969CD21ACF840_element_2965\")>,\n",
       " <selenium.webdriver.remote.webelement.WebElement (session=\"c711e0a238416a1241e374e1705bc7b1\", element=\"CA701135CBF6BFE8AD6969CD21ACF840_element_2966\")>,\n",
       " <selenium.webdriver.remote.webelement.WebElement (session=\"c711e0a238416a1241e374e1705bc7b1\", element=\"CA701135CBF6BFE8AD6969CD21ACF840_element_2967\")>,\n",
       " <selenium.webdriver.remote.webelement.WebElement (session=\"c711e0a238416a1241e374e1705bc7b1\", element=\"CA701135CBF6BFE8AD6969CD21ACF840_element_2968\")>,\n",
       " <selenium.webdriver.remote.webelement.WebElement (session=\"c711e0a238416a1241e374e1705bc7b1\", element=\"CA701135CBF6BFE8AD6969CD21ACF840_element_2969\")>,\n",
       " <selenium.webdriver.remote.webelement.WebElement (session=\"c711e0a238416a1241e374e1705bc7b1\", element=\"CA701135CBF6BFE8AD6969CD21ACF840_element_2970\")>]"
      ]
     },
     "execution_count": 165,
     "metadata": {},
     "output_type": "execute_result"
    }
   ],
   "source": [
    "#scraping the first 10 job locations\n",
    "\n",
    "location1=driver.find_elements(By.XPATH, '//div[@class=\" jobCard_jobCard_lists_item__YxRkV jobCard_locationIcon__zrWt2\"]')\n",
    "\n",
    "location1[0:10]"
   ]
  },
  {
   "cell_type": "code",
   "execution_count": 166,
   "id": "71b5a730",
   "metadata": {},
   "outputs": [
    {
     "data": {
      "text/plain": [
       "['Bangalore\\n+14',\n",
       " 'Bangalore\\n+14',\n",
       " 'Bangalore',\n",
       " 'Bangalore',\n",
       " 'Bangalore',\n",
       " 'Bangalore',\n",
       " 'Bangalore',\n",
       " 'Bangalore\\n+14',\n",
       " 'Bangalore',\n",
       " 'Bangalore']"
      ]
     },
     "execution_count": 166,
     "metadata": {},
     "output_type": "execute_result"
    }
   ],
   "source": [
    "for i in location1[0:10]:\n",
    "    job_location1.append(i.text)\n",
    "    \n",
    "job_location1 "
   ]
  },
  {
   "cell_type": "code",
   "execution_count": 167,
   "id": "3a308144",
   "metadata": {},
   "outputs": [
    {
     "data": {
      "text/plain": [
       "[<selenium.webdriver.remote.webelement.WebElement (session=\"c711e0a238416a1241e374e1705bc7b1\", element=\"CA701135CBF6BFE8AD6969CD21ACF840_element_2611\")>,\n",
       " <selenium.webdriver.remote.webelement.WebElement (session=\"c711e0a238416a1241e374e1705bc7b1\", element=\"CA701135CBF6BFE8AD6969CD21ACF840_element_2981\")>,\n",
       " <selenium.webdriver.remote.webelement.WebElement (session=\"c711e0a238416a1241e374e1705bc7b1\", element=\"CA701135CBF6BFE8AD6969CD21ACF840_element_2982\")>,\n",
       " <selenium.webdriver.remote.webelement.WebElement (session=\"c711e0a238416a1241e374e1705bc7b1\", element=\"CA701135CBF6BFE8AD6969CD21ACF840_element_2983\")>,\n",
       " <selenium.webdriver.remote.webelement.WebElement (session=\"c711e0a238416a1241e374e1705bc7b1\", element=\"CA701135CBF6BFE8AD6969CD21ACF840_element_2984\")>,\n",
       " <selenium.webdriver.remote.webelement.WebElement (session=\"c711e0a238416a1241e374e1705bc7b1\", element=\"CA701135CBF6BFE8AD6969CD21ACF840_element_2985\")>,\n",
       " <selenium.webdriver.remote.webelement.WebElement (session=\"c711e0a238416a1241e374e1705bc7b1\", element=\"CA701135CBF6BFE8AD6969CD21ACF840_element_2986\")>,\n",
       " <selenium.webdriver.remote.webelement.WebElement (session=\"c711e0a238416a1241e374e1705bc7b1\", element=\"CA701135CBF6BFE8AD6969CD21ACF840_element_2987\")>,\n",
       " <selenium.webdriver.remote.webelement.WebElement (session=\"c711e0a238416a1241e374e1705bc7b1\", element=\"CA701135CBF6BFE8AD6969CD21ACF840_element_2988\")>,\n",
       " <selenium.webdriver.remote.webelement.WebElement (session=\"c711e0a238416a1241e374e1705bc7b1\", element=\"CA701135CBF6BFE8AD6969CD21ACF840_element_2989\")>]"
      ]
     },
     "execution_count": 167,
     "metadata": {},
     "output_type": "execute_result"
    }
   ],
   "source": [
    "#scraping the first 10 company names\n",
    "\n",
    "company1=driver.find_elements(By.XPATH, '//div[@class=\"jobCard_jobCard_cName__mYnow\"]')\n",
    "\n",
    "company1[0:10]"
   ]
  },
  {
   "cell_type": "code",
   "execution_count": 168,
   "id": "a32fa161",
   "metadata": {},
   "outputs": [
    {
     "data": {
      "text/plain": [
       "['divya interprises',\n",
       " 'divya interprises',\n",
       " 'the fashion cosmo',\n",
       " 'bosch group',\n",
       " 'shiva hr services',\n",
       " 'bosch group',\n",
       " 'bosch group',\n",
       " 'divya interprises',\n",
       " 'racanaa energy solution private lim...',\n",
       " 'true caller']"
      ]
     },
     "execution_count": 168,
     "metadata": {},
     "output_type": "execute_result"
    }
   ],
   "source": [
    "for i in company1[0:10]:\n",
    "    company_name1.append(i.text)\n",
    "    \n",
    "company_name1 "
   ]
  },
  {
   "cell_type": "code",
   "execution_count": 169,
   "id": "f753a86e",
   "metadata": {},
   "outputs": [
    {
     "name": "stdout",
     "output_type": "stream",
     "text": [
      "10 10 10\n"
     ]
    }
   ],
   "source": [
    "print(len(job_title1),len(job_location1),len(company_name1))"
   ]
  },
  {
   "cell_type": "code",
   "execution_count": 170,
   "id": "2b550dda",
   "metadata": {},
   "outputs": [
    {
     "data": {
      "text/html": [
       "<div>\n",
       "<style scoped>\n",
       "    .dataframe tbody tr th:only-of-type {\n",
       "        vertical-align: middle;\n",
       "    }\n",
       "\n",
       "    .dataframe tbody tr th {\n",
       "        vertical-align: top;\n",
       "    }\n",
       "\n",
       "    .dataframe thead th {\n",
       "        text-align: right;\n",
       "    }\n",
       "</style>\n",
       "<table border=\"1\" class=\"dataframe\">\n",
       "  <thead>\n",
       "    <tr style=\"text-align: right;\">\n",
       "      <th></th>\n",
       "      <th>job_title</th>\n",
       "      <th>company_name</th>\n",
       "      <th>job_location</th>\n",
       "    </tr>\n",
       "  </thead>\n",
       "  <tbody>\n",
       "    <tr>\n",
       "      <th>0</th>\n",
       "      <td>Data Scientist Vacancy</td>\n",
       "      <td>divya interprises</td>\n",
       "      <td>Bangalore\\n+14</td>\n",
       "    </tr>\n",
       "    <tr>\n",
       "      <th>1</th>\n",
       "      <td>Data Scientist Urgent Recruitment</td>\n",
       "      <td>divya interprises</td>\n",
       "      <td>Bangalore\\n+14</td>\n",
       "    </tr>\n",
       "    <tr>\n",
       "      <th>2</th>\n",
       "      <td>Data Scientist- Bangalore</td>\n",
       "      <td>the fashion cosmo</td>\n",
       "      <td>Bangalore</td>\n",
       "    </tr>\n",
       "    <tr>\n",
       "      <th>3</th>\n",
       "      <td>Data Scientist AI ML CV</td>\n",
       "      <td>bosch group</td>\n",
       "      <td>Bangalore</td>\n",
       "    </tr>\n",
       "    <tr>\n",
       "      <th>4</th>\n",
       "      <td>Data Scientist-Bangalore</td>\n",
       "      <td>shiva hr services</td>\n",
       "      <td>Bangalore</td>\n",
       "    </tr>\n",
       "    <tr>\n",
       "      <th>5</th>\n",
       "      <td>Data Scientist AI ML NLP</td>\n",
       "      <td>bosch group</td>\n",
       "      <td>Bangalore</td>\n",
       "    </tr>\n",
       "    <tr>\n",
       "      <th>6</th>\n",
       "      <td>Phd Data Scientist</td>\n",
       "      <td>bosch group</td>\n",
       "      <td>Bangalore</td>\n",
       "    </tr>\n",
       "    <tr>\n",
       "      <th>7</th>\n",
       "      <td>Hiring For Data Scientist</td>\n",
       "      <td>divya interprises</td>\n",
       "      <td>Bangalore\\n+14</td>\n",
       "    </tr>\n",
       "    <tr>\n",
       "      <th>8</th>\n",
       "      <td>Data Scientist</td>\n",
       "      <td>racanaa energy solution private lim...</td>\n",
       "      <td>Bangalore</td>\n",
       "    </tr>\n",
       "    <tr>\n",
       "      <th>9</th>\n",
       "      <td>Staff Data Scientist &amp; Team Lead</td>\n",
       "      <td>true caller</td>\n",
       "      <td>Bangalore</td>\n",
       "    </tr>\n",
       "  </tbody>\n",
       "</table>\n",
       "</div>"
      ],
      "text/plain": [
       "                           job_title                            company_name  \\\n",
       "0             Data Scientist Vacancy                       divya interprises   \n",
       "1  Data Scientist Urgent Recruitment                       divya interprises   \n",
       "2          Data Scientist- Bangalore                       the fashion cosmo   \n",
       "3            Data Scientist AI ML CV                             bosch group   \n",
       "4           Data Scientist-Bangalore                       shiva hr services   \n",
       "5           Data Scientist AI ML NLP                             bosch group   \n",
       "6                 Phd Data Scientist                             bosch group   \n",
       "7          Hiring For Data Scientist                       divya interprises   \n",
       "8                     Data Scientist  racanaa energy solution private lim...   \n",
       "9   Staff Data Scientist & Team Lead                             true caller   \n",
       "\n",
       "     job_location  \n",
       "0  Bangalore\\n+14  \n",
       "1  Bangalore\\n+14  \n",
       "2       Bangalore  \n",
       "3       Bangalore  \n",
       "4       Bangalore  \n",
       "5       Bangalore  \n",
       "6       Bangalore  \n",
       "7  Bangalore\\n+14  \n",
       "8       Bangalore  \n",
       "9       Bangalore  "
      ]
     },
     "execution_count": 170,
     "metadata": {},
     "output_type": "execute_result"
    }
   ],
   "source": [
    "#creating DataFrame\n",
    "\n",
    "data1=pd.DataFrame({'job_title':job_title1,'company_name':company_name1,'job_location':job_location1})\n",
    "\n",
    "data1"
   ]
  },
  {
   "cell_type": "markdown",
   "id": "c7727d95",
   "metadata": {},
   "source": [
    "# Q3: In this question you have to scrape data using the filters available on the webpage\n",
    "You have to use the location and salary filter.\n",
    "You have to scrape data for “Data Scientist” designation for first 10 job results.\n",
    "You have to scrape the job-title, job-location, company name, experience required. The location filter to be used is “Delhi/NCR”. The salary filter to be used is “3-6” lakhs\n",
    "The task will be done as shown in the below steps:\n",
    "1. first get the web page https://www.shine.com/\n",
    "2. Enter “Data Scientist” in “Skill, Designations, and Companies” field.\n",
    "3. Then click the search button.\n",
    "4. Then apply the location filter and salary filter by checking the respective boxes\n",
    "5. Then scrape the data for the first 10 jobs results you get.\n",
    "6. Finally create a dataframe of the scraped data."
   ]
  },
  {
   "cell_type": "code",
   "execution_count": 171,
   "id": "dc74a078",
   "metadata": {},
   "outputs": [],
   "source": [
    "#connecting with the webdriver\n",
    "\n",
    "driver=webdriver.Chrome()"
   ]
  },
  {
   "cell_type": "code",
   "execution_count": 172,
   "id": "29154c3e",
   "metadata": {},
   "outputs": [],
   "source": [
    "#opening the www.shine.com website on automated chrome browser\n",
    "\n",
    "driver.get('https://www.shine.com/')"
   ]
  },
  {
   "cell_type": "code",
   "execution_count": 173,
   "id": "de657ed4",
   "metadata": {},
   "outputs": [],
   "source": [
    "#remove the pop up window\n",
    "\n",
    "pop_up_page =driver.find_element(By.XPATH,'/html/body/div/div[2]/div/div/button')\n",
    "pop_up_page.click()"
   ]
  },
  {
   "cell_type": "code",
   "execution_count": 176,
   "id": "39eef185",
   "metadata": {},
   "outputs": [],
   "source": [
    "#click on the empty field\n",
    "\n",
    "click_emp=driver.find_element(By.XPATH, \"/html/body/div/header[2]/div[2]/div[1]/input\")\n",
    "click_emp.click()"
   ]
  },
  {
   "cell_type": "code",
   "execution_count": 178,
   "id": "8d92c93d",
   "metadata": {},
   "outputs": [],
   "source": [
    "#entering designation as required in the question\n",
    "\n",
    "designation2=driver.find_element(By.XPATH, \"/html/body/div/div[4]/div/div[2]/div[2]/div/form/div/div[1]/ul/li[1]/div/input\")\n",
    "designation2.send_keys(\"Data Scientist\")"
   ]
  },
  {
   "cell_type": "code",
   "execution_count": 179,
   "id": "96ef5d03",
   "metadata": {},
   "outputs": [],
   "source": [
    "#clicking on search bar button\n",
    "\n",
    "search1=driver.find_element(By.XPATH,\"/html/body/div/div[4]/div/div[2]/div[2]/div/form/div/div[2]/div/button\")\n",
    "search1.click()"
   ]
  },
  {
   "cell_type": "code",
   "execution_count": 190,
   "id": "8f6d224e",
   "metadata": {},
   "outputs": [],
   "source": [
    "#click on location filter bar\n",
    "\n",
    "click_location_button =driver.find_element(By.XPATH,'/html/body/div[1]/div[1]/div[3]/div/div[1]/div/div[2]/div/ul/li[1]/button')\n",
    "click_location_button.click()"
   ]
  },
  {
   "cell_type": "code",
   "execution_count": 192,
   "id": "0bb3437c",
   "metadata": {},
   "outputs": [],
   "source": [
    "from selenium.webdriver.support.ui import Select"
   ]
  },
  {
   "cell_type": "code",
   "execution_count": 203,
   "id": "dc8cae56",
   "metadata": {},
   "outputs": [],
   "source": [
    "#selecting Delhi\n",
    "\n",
    "select=driver.find_element(By.XPATH,\"/html/body/div[1]/div[1]/div[3]/div/div[1]/div/div[2]/div[2]/div/div/div/div[3]/div/div/div/ul/li[10]/span/label\")\n",
    "select.click()"
   ]
  },
  {
   "cell_type": "code",
   "execution_count": 204,
   "id": "b1a9e476",
   "metadata": {},
   "outputs": [],
   "source": [
    "#click on salary filter\n",
    "\n",
    "salary_click_button=driver.find_element(By.XPATH, \"/html/body/div[1]/div[1]/div[3]/div/div[1]/div/div[2]/div[2]/div/div/div/div[3]/div/ul/li[3]\")\n",
    "salary_click_button.click()"
   ]
  },
  {
   "cell_type": "code",
   "execution_count": 205,
   "id": "57acbc7a",
   "metadata": {},
   "outputs": [],
   "source": [
    "#selecting 3 to 5 Lakh\n",
    "\n",
    "select_salary=driver.find_element(By.XPATH, \"/html/body/div[1]/div[1]/div[3]/div/div[1]/div/div[2]/div[2]/div/div/div/div[3]/div/div/div/ul/li[3]/span/label\")\n",
    "select_salary.click()"
   ]
  },
  {
   "cell_type": "code",
   "execution_count": 206,
   "id": "7e580f67",
   "metadata": {},
   "outputs": [],
   "source": [
    "#click on show results button\n",
    "\n",
    "show_results_button=driver.find_element(By.XPATH,\"/html/body/div[1]/div[1]/div[3]/div/div[1]/div/div[2]/div[2]/div/div/div/div[4]/button[2]\")\n",
    "show_results_button.click()"
   ]
  },
  {
   "cell_type": "code",
   "execution_count": 207,
   "id": "935f044f",
   "metadata": {},
   "outputs": [],
   "source": [
    "#creating empty lists\n",
    "\n",
    "job_title2=[]\n",
    "job_location2=[]\n",
    "company_name2=[]\n",
    "experience_required2=[]"
   ]
  },
  {
   "cell_type": "code",
   "execution_count": 208,
   "id": "6693f859",
   "metadata": {},
   "outputs": [
    {
     "data": {
      "text/plain": [
       "[<selenium.webdriver.remote.webelement.WebElement (session=\"2360bb177a276a7174d1cb1e644f7752\", element=\"11636563712ACE893F5030377F1AAB44_element_4076\")>,\n",
       " <selenium.webdriver.remote.webelement.WebElement (session=\"2360bb177a276a7174d1cb1e644f7752\", element=\"11636563712ACE893F5030377F1AAB44_element_4116\")>,\n",
       " <selenium.webdriver.remote.webelement.WebElement (session=\"2360bb177a276a7174d1cb1e644f7752\", element=\"11636563712ACE893F5030377F1AAB44_element_4160\")>,\n",
       " <selenium.webdriver.remote.webelement.WebElement (session=\"2360bb177a276a7174d1cb1e644f7752\", element=\"11636563712ACE893F5030377F1AAB44_element_4200\")>,\n",
       " <selenium.webdriver.remote.webelement.WebElement (session=\"2360bb177a276a7174d1cb1e644f7752\", element=\"11636563712ACE893F5030377F1AAB44_element_4249\")>,\n",
       " <selenium.webdriver.remote.webelement.WebElement (session=\"2360bb177a276a7174d1cb1e644f7752\", element=\"11636563712ACE893F5030377F1AAB44_element_4282\")>,\n",
       " <selenium.webdriver.remote.webelement.WebElement (session=\"2360bb177a276a7174d1cb1e644f7752\", element=\"11636563712ACE893F5030377F1AAB44_element_4346\")>,\n",
       " <selenium.webdriver.remote.webelement.WebElement (session=\"2360bb177a276a7174d1cb1e644f7752\", element=\"11636563712ACE893F5030377F1AAB44_element_4386\")>,\n",
       " <selenium.webdriver.remote.webelement.WebElement (session=\"2360bb177a276a7174d1cb1e644f7752\", element=\"11636563712ACE893F5030377F1AAB44_element_4426\")>,\n",
       " <selenium.webdriver.remote.webelement.WebElement (session=\"2360bb177a276a7174d1cb1e644f7752\", element=\"11636563712ACE893F5030377F1AAB44_element_4466\")>]"
      ]
     },
     "execution_count": 208,
     "metadata": {},
     "output_type": "execute_result"
    }
   ],
   "source": [
    "#scraping the first 10 job titles\n",
    "\n",
    "title2=driver.find_elements(By.XPATH,'//h2[@itemprop=\"name\"]')\n",
    "\n",
    "title2[0:10]"
   ]
  },
  {
   "cell_type": "code",
   "execution_count": 209,
   "id": "5eac3e07",
   "metadata": {},
   "outputs": [
    {
     "data": {
      "text/plain": [
       "['Data Scientist- Delhi',\n",
       " 'Data Scientist-Delhi',\n",
       " 'Data Scientist- Delhi',\n",
       " 'Data Scientist- Delhi',\n",
       " 'Data Scientist',\n",
       " 'Data Scientist',\n",
       " 'Data Scientist',\n",
       " 'Clinical Data Analyst',\n",
       " 'Data Modeler',\n",
       " 'Biostatistician']"
      ]
     },
     "execution_count": 209,
     "metadata": {},
     "output_type": "execute_result"
    }
   ],
   "source": [
    "for i in title2[0:10]:\n",
    "    job_title2.append(i.text)\n",
    "\n",
    "job_title2"
   ]
  },
  {
   "cell_type": "code",
   "execution_count": 213,
   "id": "4ab57b76",
   "metadata": {},
   "outputs": [
    {
     "data": {
      "text/plain": [
       "[<selenium.webdriver.remote.webelement.WebElement (session=\"2360bb177a276a7174d1cb1e644f7752\", element=\"11636563712ACE893F5030377F1AAB44_element_4089\")>,\n",
       " <selenium.webdriver.remote.webelement.WebElement (session=\"2360bb177a276a7174d1cb1e644f7752\", element=\"11636563712ACE893F5030377F1AAB44_element_4129\")>,\n",
       " <selenium.webdriver.remote.webelement.WebElement (session=\"2360bb177a276a7174d1cb1e644f7752\", element=\"11636563712ACE893F5030377F1AAB44_element_4173\")>,\n",
       " <selenium.webdriver.remote.webelement.WebElement (session=\"2360bb177a276a7174d1cb1e644f7752\", element=\"11636563712ACE893F5030377F1AAB44_element_4213\")>,\n",
       " <selenium.webdriver.remote.webelement.WebElement (session=\"2360bb177a276a7174d1cb1e644f7752\", element=\"11636563712ACE893F5030377F1AAB44_element_4258\")>,\n",
       " <selenium.webdriver.remote.webelement.WebElement (session=\"2360bb177a276a7174d1cb1e644f7752\", element=\"11636563712ACE893F5030377F1AAB44_element_4291\")>,\n",
       " <selenium.webdriver.remote.webelement.WebElement (session=\"2360bb177a276a7174d1cb1e644f7752\", element=\"11636563712ACE893F5030377F1AAB44_element_4359\")>,\n",
       " <selenium.webdriver.remote.webelement.WebElement (session=\"2360bb177a276a7174d1cb1e644f7752\", element=\"11636563712ACE893F5030377F1AAB44_element_4399\")>,\n",
       " <selenium.webdriver.remote.webelement.WebElement (session=\"2360bb177a276a7174d1cb1e644f7752\", element=\"11636563712ACE893F5030377F1AAB44_element_4439\")>,\n",
       " <selenium.webdriver.remote.webelement.WebElement (session=\"2360bb177a276a7174d1cb1e644f7752\", element=\"11636563712ACE893F5030377F1AAB44_element_4475\")>]"
      ]
     },
     "execution_count": 213,
     "metadata": {},
     "output_type": "execute_result"
    }
   ],
   "source": [
    "#scraping the first 10 job locations\n",
    "\n",
    "location2=driver.find_elements(By.XPATH, '//div[@class=\" jobCard_jobCard_lists_item__YxRkV jobCard_locationIcon__zrWt2\"]')\n",
    "\n",
    "location2[0:10]"
   ]
  },
  {
   "cell_type": "code",
   "execution_count": 214,
   "id": "36a83dce",
   "metadata": {},
   "outputs": [
    {
     "data": {
      "text/plain": [
       "['Delhi',\n",
       " 'Delhi',\n",
       " 'Delhi',\n",
       " 'Delhi',\n",
       " 'Delhi\\n+4',\n",
       " 'Delhi\\n+6',\n",
       " 'Delhi\\n+4',\n",
       " 'Delhi\\n+6',\n",
       " 'Delhi\\n+9',\n",
       " 'Delhi\\n+17']"
      ]
     },
     "execution_count": 214,
     "metadata": {},
     "output_type": "execute_result"
    }
   ],
   "source": [
    "for i in location2[0:10]:\n",
    "    job_location2.append(i.text)\n",
    "    \n",
    "job_location2 "
   ]
  },
  {
   "cell_type": "code",
   "execution_count": 215,
   "id": "4bd18a86",
   "metadata": {},
   "outputs": [
    {
     "data": {
      "text/plain": [
       "[<selenium.webdriver.remote.webelement.WebElement (session=\"2360bb177a276a7174d1cb1e644f7752\", element=\"11636563712ACE893F5030377F1AAB44_element_4079\")>,\n",
       " <selenium.webdriver.remote.webelement.WebElement (session=\"2360bb177a276a7174d1cb1e644f7752\", element=\"11636563712ACE893F5030377F1AAB44_element_4119\")>,\n",
       " <selenium.webdriver.remote.webelement.WebElement (session=\"2360bb177a276a7174d1cb1e644f7752\", element=\"11636563712ACE893F5030377F1AAB44_element_4163\")>,\n",
       " <selenium.webdriver.remote.webelement.WebElement (session=\"2360bb177a276a7174d1cb1e644f7752\", element=\"11636563712ACE893F5030377F1AAB44_element_4203\")>,\n",
       " <selenium.webdriver.remote.webelement.WebElement (session=\"2360bb177a276a7174d1cb1e644f7752\", element=\"11636563712ACE893F5030377F1AAB44_element_4252\")>,\n",
       " <selenium.webdriver.remote.webelement.WebElement (session=\"2360bb177a276a7174d1cb1e644f7752\", element=\"11636563712ACE893F5030377F1AAB44_element_4285\")>,\n",
       " <selenium.webdriver.remote.webelement.WebElement (session=\"2360bb177a276a7174d1cb1e644f7752\", element=\"11636563712ACE893F5030377F1AAB44_element_4349\")>,\n",
       " <selenium.webdriver.remote.webelement.WebElement (session=\"2360bb177a276a7174d1cb1e644f7752\", element=\"11636563712ACE893F5030377F1AAB44_element_4389\")>,\n",
       " <selenium.webdriver.remote.webelement.WebElement (session=\"2360bb177a276a7174d1cb1e644f7752\", element=\"11636563712ACE893F5030377F1AAB44_element_4429\")>,\n",
       " <selenium.webdriver.remote.webelement.WebElement (session=\"2360bb177a276a7174d1cb1e644f7752\", element=\"11636563712ACE893F5030377F1AAB44_element_4469\")>]"
      ]
     },
     "execution_count": 215,
     "metadata": {},
     "output_type": "execute_result"
    }
   ],
   "source": [
    "#scraping the first 10 company names\n",
    "\n",
    "company2=driver.find_elements(By.XPATH, '//div[@class=\"jobCard_jobCard_cName__mYnow\"]')\n",
    "\n",
    "company2[0:10]"
   ]
  },
  {
   "cell_type": "code",
   "execution_count": 216,
   "id": "65f50aef",
   "metadata": {},
   "outputs": [
    {
     "data": {
      "text/plain": [
       "['the fashion cosmo',\n",
       " 'shiva hr services',\n",
       " 'the fashion cosmo',\n",
       " 'the fashion cosmo',\n",
       " 'acme services private limited',\n",
       " 'quiscon biotech',\n",
       " 'acme services private limited',\n",
       " 'techno endura',\n",
       " 'v-tech data outsourcing',\n",
       " 'national seeds corporation limited']"
      ]
     },
     "execution_count": 216,
     "metadata": {},
     "output_type": "execute_result"
    }
   ],
   "source": [
    "for i in company2[0:10]:\n",
    "    company_name2.append(i.text)\n",
    "    \n",
    "company_name2"
   ]
  },
  {
   "cell_type": "code",
   "execution_count": 217,
   "id": "0e115405",
   "metadata": {},
   "outputs": [
    {
     "data": {
      "text/plain": [
       "[<selenium.webdriver.remote.webelement.WebElement (session=\"2360bb177a276a7174d1cb1e644f7752\", element=\"11636563712ACE893F5030377F1AAB44_element_4081\")>,\n",
       " <selenium.webdriver.remote.webelement.WebElement (session=\"2360bb177a276a7174d1cb1e644f7752\", element=\"11636563712ACE893F5030377F1AAB44_element_4121\")>,\n",
       " <selenium.webdriver.remote.webelement.WebElement (session=\"2360bb177a276a7174d1cb1e644f7752\", element=\"11636563712ACE893F5030377F1AAB44_element_4165\")>,\n",
       " <selenium.webdriver.remote.webelement.WebElement (session=\"2360bb177a276a7174d1cb1e644f7752\", element=\"11636563712ACE893F5030377F1AAB44_element_4205\")>,\n",
       " <selenium.webdriver.remote.webelement.WebElement (session=\"2360bb177a276a7174d1cb1e644f7752\", element=\"11636563712ACE893F5030377F1AAB44_element_4254\")>,\n",
       " <selenium.webdriver.remote.webelement.WebElement (session=\"2360bb177a276a7174d1cb1e644f7752\", element=\"11636563712ACE893F5030377F1AAB44_element_4287\")>,\n",
       " <selenium.webdriver.remote.webelement.WebElement (session=\"2360bb177a276a7174d1cb1e644f7752\", element=\"11636563712ACE893F5030377F1AAB44_element_4351\")>,\n",
       " <selenium.webdriver.remote.webelement.WebElement (session=\"2360bb177a276a7174d1cb1e644f7752\", element=\"11636563712ACE893F5030377F1AAB44_element_4391\")>,\n",
       " <selenium.webdriver.remote.webelement.WebElement (session=\"2360bb177a276a7174d1cb1e644f7752\", element=\"11636563712ACE893F5030377F1AAB44_element_4431\")>,\n",
       " <selenium.webdriver.remote.webelement.WebElement (session=\"2360bb177a276a7174d1cb1e644f7752\", element=\"11636563712ACE893F5030377F1AAB44_element_4471\")>]"
      ]
     },
     "execution_count": 217,
     "metadata": {},
     "output_type": "execute_result"
    }
   ],
   "source": [
    "#scraping the first 10 experience required\n",
    "\n",
    "experience2=driver.find_elements(By.XPATH, '//div[@class=\" jobCard_jobCard_lists_item__YxRkV jobCard_jobIcon__3FB1t\"]')\n",
    "\n",
    "experience2[0:10]"
   ]
  },
  {
   "cell_type": "code",
   "execution_count": 218,
   "id": "3ef57e5a",
   "metadata": {},
   "outputs": [
    {
     "data": {
      "text/plain": [
       "['0 to 3 Yrs',\n",
       " '0 to 3 Yrs',\n",
       " '0 to 3 Yrs',\n",
       " '0 to 3 Yrs',\n",
       " '3 to 5 Yrs',\n",
       " '0 to 1 Yr',\n",
       " '3 to 5 Yrs',\n",
       " '0 to 1 Yr',\n",
       " '0 to 2 Yrs',\n",
       " '1 to 6 Yrs']"
      ]
     },
     "execution_count": 218,
     "metadata": {},
     "output_type": "execute_result"
    }
   ],
   "source": [
    "for i in experience2[0:10]:\n",
    "    experience_required2.append(i.text)\n",
    "    \n",
    "experience_required2"
   ]
  },
  {
   "cell_type": "code",
   "execution_count": 219,
   "id": "4c241096",
   "metadata": {},
   "outputs": [
    {
     "name": "stdout",
     "output_type": "stream",
     "text": [
      "10 10 10 10\n"
     ]
    }
   ],
   "source": [
    "print(len(job_title2),len(job_location2),len(company_name2),len(experience_required2))"
   ]
  },
  {
   "cell_type": "code",
   "execution_count": 220,
   "id": "5c4d7ea6",
   "metadata": {},
   "outputs": [
    {
     "data": {
      "text/html": [
       "<div>\n",
       "<style scoped>\n",
       "    .dataframe tbody tr th:only-of-type {\n",
       "        vertical-align: middle;\n",
       "    }\n",
       "\n",
       "    .dataframe tbody tr th {\n",
       "        vertical-align: top;\n",
       "    }\n",
       "\n",
       "    .dataframe thead th {\n",
       "        text-align: right;\n",
       "    }\n",
       "</style>\n",
       "<table border=\"1\" class=\"dataframe\">\n",
       "  <thead>\n",
       "    <tr style=\"text-align: right;\">\n",
       "      <th></th>\n",
       "      <th>job_title</th>\n",
       "      <th>company_name</th>\n",
       "      <th>job_location</th>\n",
       "      <th>experience_required</th>\n",
       "    </tr>\n",
       "  </thead>\n",
       "  <tbody>\n",
       "    <tr>\n",
       "      <th>0</th>\n",
       "      <td>Data Scientist- Delhi</td>\n",
       "      <td>the fashion cosmo</td>\n",
       "      <td>Delhi</td>\n",
       "      <td>0 to 3 Yrs</td>\n",
       "    </tr>\n",
       "    <tr>\n",
       "      <th>1</th>\n",
       "      <td>Data Scientist-Delhi</td>\n",
       "      <td>shiva hr services</td>\n",
       "      <td>Delhi</td>\n",
       "      <td>0 to 3 Yrs</td>\n",
       "    </tr>\n",
       "    <tr>\n",
       "      <th>2</th>\n",
       "      <td>Data Scientist- Delhi</td>\n",
       "      <td>the fashion cosmo</td>\n",
       "      <td>Delhi</td>\n",
       "      <td>0 to 3 Yrs</td>\n",
       "    </tr>\n",
       "    <tr>\n",
       "      <th>3</th>\n",
       "      <td>Data Scientist- Delhi</td>\n",
       "      <td>the fashion cosmo</td>\n",
       "      <td>Delhi</td>\n",
       "      <td>0 to 3 Yrs</td>\n",
       "    </tr>\n",
       "    <tr>\n",
       "      <th>4</th>\n",
       "      <td>Data Scientist</td>\n",
       "      <td>acme services private limited</td>\n",
       "      <td>Delhi\\n+4</td>\n",
       "      <td>3 to 5 Yrs</td>\n",
       "    </tr>\n",
       "    <tr>\n",
       "      <th>5</th>\n",
       "      <td>Data Scientist</td>\n",
       "      <td>quiscon biotech</td>\n",
       "      <td>Delhi\\n+6</td>\n",
       "      <td>0 to 1 Yr</td>\n",
       "    </tr>\n",
       "    <tr>\n",
       "      <th>6</th>\n",
       "      <td>Data Scientist</td>\n",
       "      <td>acme services private limited</td>\n",
       "      <td>Delhi\\n+4</td>\n",
       "      <td>3 to 5 Yrs</td>\n",
       "    </tr>\n",
       "    <tr>\n",
       "      <th>7</th>\n",
       "      <td>Clinical Data Analyst</td>\n",
       "      <td>techno endura</td>\n",
       "      <td>Delhi\\n+6</td>\n",
       "      <td>0 to 1 Yr</td>\n",
       "    </tr>\n",
       "    <tr>\n",
       "      <th>8</th>\n",
       "      <td>Data Modeler</td>\n",
       "      <td>v-tech data outsourcing</td>\n",
       "      <td>Delhi\\n+9</td>\n",
       "      <td>0 to 2 Yrs</td>\n",
       "    </tr>\n",
       "    <tr>\n",
       "      <th>9</th>\n",
       "      <td>Biostatistician</td>\n",
       "      <td>national seeds corporation limited</td>\n",
       "      <td>Delhi\\n+17</td>\n",
       "      <td>1 to 6 Yrs</td>\n",
       "    </tr>\n",
       "  </tbody>\n",
       "</table>\n",
       "</div>"
      ],
      "text/plain": [
       "               job_title                        company_name job_location  \\\n",
       "0  Data Scientist- Delhi                   the fashion cosmo        Delhi   \n",
       "1   Data Scientist-Delhi                   shiva hr services        Delhi   \n",
       "2  Data Scientist- Delhi                   the fashion cosmo        Delhi   \n",
       "3  Data Scientist- Delhi                   the fashion cosmo        Delhi   \n",
       "4         Data Scientist       acme services private limited    Delhi\\n+4   \n",
       "5         Data Scientist                     quiscon biotech    Delhi\\n+6   \n",
       "6         Data Scientist       acme services private limited    Delhi\\n+4   \n",
       "7  Clinical Data Analyst                       techno endura    Delhi\\n+6   \n",
       "8           Data Modeler             v-tech data outsourcing    Delhi\\n+9   \n",
       "9        Biostatistician  national seeds corporation limited   Delhi\\n+17   \n",
       "\n",
       "  experience_required  \n",
       "0          0 to 3 Yrs  \n",
       "1          0 to 3 Yrs  \n",
       "2          0 to 3 Yrs  \n",
       "3          0 to 3 Yrs  \n",
       "4          3 to 5 Yrs  \n",
       "5           0 to 1 Yr  \n",
       "6          3 to 5 Yrs  \n",
       "7           0 to 1 Yr  \n",
       "8          0 to 2 Yrs  \n",
       "9          1 to 6 Yrs  "
      ]
     },
     "execution_count": 220,
     "metadata": {},
     "output_type": "execute_result"
    }
   ],
   "source": [
    "#creating DataFrame\n",
    "\n",
    "data2 = pd.DataFrame({'job_title':job_title2,'company_name':company_name2,'job_location':job_location2,'experience_required':experience_required2})\n",
    "\n",
    "data2"
   ]
  },
  {
   "cell_type": "markdown",
   "id": "be9193ec",
   "metadata": {},
   "source": [
    "# Q4: Scrape data of first 100 sunglasses listings on flipkart.com. You have to scrape four attributes:\n",
    "6. Brand\n",
    "7. Product Description\n",
    "8. Price\n",
    "The attributes which you have to scrape is ticked marked in the below image.\n",
    "\n",
    "To scrape the data you have to go through following steps:\n",
    "1. Go to Flipkart webpage by url : https://www.flipkart.com/\n",
    "2. Enter “sunglasses” in the search field where “search for products, brands and more” is written and click the search icon\n",
    "3. After that you will reach to the page having a lot of sunglasses. From this page you can scrap the required data as usual.\n",
    "4. After scraping data from the first page, go to the “Next” Button at the bottom other page , then\n",
    "click on it.\n",
    "5. Now scrape data from this page as usual\n",
    "6. Repeat this until you get data for 100sunglasses."
   ]
  },
  {
   "cell_type": "code",
   "execution_count": 156,
   "id": "bdd22900",
   "metadata": {},
   "outputs": [],
   "source": [
    "driver=webdriver.Chrome()"
   ]
  },
  {
   "cell_type": "code",
   "execution_count": 157,
   "id": "324d89a5",
   "metadata": {},
   "outputs": [],
   "source": [
    "#opening the flipkart website on automated chrome browser\n",
    "\n",
    "driver.get('https://www.flipkart.com/')"
   ]
  },
  {
   "cell_type": "code",
   "execution_count": 158,
   "id": "6c380564",
   "metadata": {},
   "outputs": [],
   "source": [
    "#remove the pop up window\n",
    "\n",
    "pop_up_page =driver.find_element(By.XPATH,'/html/body/div[3]/div/span')\n",
    "pop_up_page.click()"
   ]
  },
  {
   "cell_type": "code",
   "execution_count": 159,
   "id": "fd116a3b",
   "metadata": {},
   "outputs": [],
   "source": [
    "#entering sunglasses in search field\n",
    "\n",
    "search_field=driver.find_element(By.XPATH, \"/html/body/div[1]/div/div[1]/div/div/div/div/div[1]/div/div[1]/div/div[1]/header/div[1]/div[2]/form/div/div/input\")\n",
    "search_field.send_keys(\"sunglasses\")"
   ]
  },
  {
   "cell_type": "code",
   "execution_count": 160,
   "id": "e458b6be",
   "metadata": {},
   "outputs": [],
   "source": [
    "#click on the search button\n",
    "\n",
    "search_button=driver.find_element(By.XPATH, '/html/body/div[1]/div/div[1]/div/div/div/div/div[1]/div/div[1]/div/div[1]/header/div[1]/div[2]/form/div/button')\n",
    "search_button.click()"
   ]
  },
  {
   "cell_type": "code",
   "execution_count": 161,
   "id": "5454d9dc",
   "metadata": {},
   "outputs": [],
   "source": [
    "#creating empty lists and scraping the required data\n",
    "\n",
    "Brand=[]\n",
    "Product_Description=[]\n",
    "Price=[]\n",
    "\n",
    "for i in range(3):\n",
    "    brand = driver.find_elements(By.XPATH,'//div[@class=\"_2WkVRV\"]')\n",
    "    for i in brand:Brand.append(i.text)\n",
    "    \n",
    "    product_des = driver.find_elements(By.XPATH, \"//a[@class='IRpwTa']\")\n",
    "    for i in product_des:Product_Description.append(i.text)\n",
    "        \n",
    "    price = driver.find_elements(By.XPATH, \"//div[@class='_30jeq3']\")\n",
    "    for i in price:Price.append(i.text)\n",
    "    "
   ]
  },
  {
   "cell_type": "code",
   "execution_count": 162,
   "id": "6a3095ab",
   "metadata": {},
   "outputs": [
    {
     "name": "stdout",
     "output_type": "stream",
     "text": [
      "120 120 120\n"
     ]
    }
   ],
   "source": [
    "print(len(Brand),len(Product_Description),len(Price))"
   ]
  },
  {
   "cell_type": "code",
   "execution_count": 163,
   "id": "46277e82",
   "metadata": {},
   "outputs": [
    {
     "data": {
      "text/html": [
       "<div>\n",
       "<style scoped>\n",
       "    .dataframe tbody tr th:only-of-type {\n",
       "        vertical-align: middle;\n",
       "    }\n",
       "\n",
       "    .dataframe tbody tr th {\n",
       "        vertical-align: top;\n",
       "    }\n",
       "\n",
       "    .dataframe thead th {\n",
       "        text-align: right;\n",
       "    }\n",
       "</style>\n",
       "<table border=\"1\" class=\"dataframe\">\n",
       "  <thead>\n",
       "    <tr style=\"text-align: right;\">\n",
       "      <th></th>\n",
       "      <th>Brand</th>\n",
       "      <th>Product_Description</th>\n",
       "      <th>Price</th>\n",
       "    </tr>\n",
       "  </thead>\n",
       "  <tbody>\n",
       "    <tr>\n",
       "      <th>0</th>\n",
       "      <td>VINCENT CHASE</td>\n",
       "      <td>by Lenskart Polarized, UV Protection Rectangul...</td>\n",
       "      <td>₹799</td>\n",
       "    </tr>\n",
       "    <tr>\n",
       "      <th>1</th>\n",
       "      <td>Eyewearlabs</td>\n",
       "      <td>Polarized, UV Protection Wayfarer Sunglasses (51)</td>\n",
       "      <td>₹1,236</td>\n",
       "    </tr>\n",
       "    <tr>\n",
       "      <th>2</th>\n",
       "      <td>SRPM</td>\n",
       "      <td>UV Protection Wayfarer Sunglasses (50)</td>\n",
       "      <td>₹149</td>\n",
       "    </tr>\n",
       "    <tr>\n",
       "      <th>3</th>\n",
       "      <td>GANSTA</td>\n",
       "      <td>Night Vision, Riding Glasses Rectangular Sungl...</td>\n",
       "      <td>₹79</td>\n",
       "    </tr>\n",
       "    <tr>\n",
       "      <th>4</th>\n",
       "      <td>ROADWAY</td>\n",
       "      <td>UV Protection Retro Square Sunglasses (Free Size)</td>\n",
       "      <td>₹199</td>\n",
       "    </tr>\n",
       "    <tr>\n",
       "      <th>...</th>\n",
       "      <td>...</td>\n",
       "      <td>...</td>\n",
       "      <td>...</td>\n",
       "    </tr>\n",
       "    <tr>\n",
       "      <th>95</th>\n",
       "      <td>ROZZETTA CRAFT</td>\n",
       "      <td>UV Protection, Gradient Rectangular Sunglasses...</td>\n",
       "      <td>₹299</td>\n",
       "    </tr>\n",
       "    <tr>\n",
       "      <th>96</th>\n",
       "      <td>ROYAL SON</td>\n",
       "      <td>UV Protection Rectangular, Retro Square Sungla...</td>\n",
       "      <td>₹424</td>\n",
       "    </tr>\n",
       "    <tr>\n",
       "      <th>97</th>\n",
       "      <td>ROYAL SON</td>\n",
       "      <td>Others Retro Square Sunglasses (58)</td>\n",
       "      <td>₹424</td>\n",
       "    </tr>\n",
       "    <tr>\n",
       "      <th>98</th>\n",
       "      <td>GANSTA</td>\n",
       "      <td>Gradient, UV Protection Rectangular Sunglasses...</td>\n",
       "      <td>₹79</td>\n",
       "    </tr>\n",
       "    <tr>\n",
       "      <th>99</th>\n",
       "      <td>METRONAUT</td>\n",
       "      <td>UV Protection Sunglass</td>\n",
       "      <td>₹199</td>\n",
       "    </tr>\n",
       "  </tbody>\n",
       "</table>\n",
       "<p>100 rows × 3 columns</p>\n",
       "</div>"
      ],
      "text/plain": [
       "             Brand                                Product_Description   Price\n",
       "0    VINCENT CHASE  by Lenskart Polarized, UV Protection Rectangul...    ₹799\n",
       "1      Eyewearlabs  Polarized, UV Protection Wayfarer Sunglasses (51)  ₹1,236\n",
       "2             SRPM             UV Protection Wayfarer Sunglasses (50)    ₹149\n",
       "3           GANSTA  Night Vision, Riding Glasses Rectangular Sungl...     ₹79\n",
       "4          ROADWAY  UV Protection Retro Square Sunglasses (Free Size)    ₹199\n",
       "..             ...                                                ...     ...\n",
       "95  ROZZETTA CRAFT  UV Protection, Gradient Rectangular Sunglasses...    ₹299\n",
       "96       ROYAL SON  UV Protection Rectangular, Retro Square Sungla...    ₹424\n",
       "97       ROYAL SON                Others Retro Square Sunglasses (58)    ₹424\n",
       "98          GANSTA  Gradient, UV Protection Rectangular Sunglasses...     ₹79\n",
       "99       METRONAUT                             UV Protection Sunglass    ₹199\n",
       "\n",
       "[100 rows x 3 columns]"
      ]
     },
     "execution_count": 163,
     "metadata": {},
     "output_type": "execute_result"
    }
   ],
   "source": [
    "#creating a dataframe from the scraped data\n",
    "\n",
    "df = pd.DataFrame({'Brand': Brand,'Product_Description':Product_Description,'Price':Price})\n",
    "\n",
    "df[0:100]"
   ]
  },
  {
   "cell_type": "markdown",
   "id": "e16c0e7b",
   "metadata": {},
   "source": [
    "# Q5: Scrape 100 reviews data from flipkart.com for iphone11 phone. You have to go the link:¶\n",
    "https://www.flipkart.com/apple-iphone-11-black-64-gb/product-reviews/itm4e5041ba101fd?pid=MOBFWQ6BXGJCEYNY&lid=LSTMOBFWQ6BXGJCEYNYZXSHRJ&marketplace=FLIPKART\n",
    "\n",
    "As shown in the above page you have to scrape the tick marked attributes. These are:\n",
    "\n",
    "1. Rating\n",
    "2. Review summary\n",
    "3. Full review\n",
    "4. You have to scrape this data for first 100reviews."
   ]
  },
  {
   "cell_type": "code",
   "execution_count": 164,
   "id": "01d0f8dc",
   "metadata": {},
   "outputs": [],
   "source": [
    "driver=webdriver.Chrome()"
   ]
  },
  {
   "cell_type": "code",
   "execution_count": 165,
   "id": "7f446ff2",
   "metadata": {},
   "outputs": [],
   "source": [
    "#opening the website on automated chrome browser\n",
    "\n",
    "driver.get('https://www.flipkart.com/apple-iphone-11-black-64-gb/product-reviews/itm4e5041ba101fd?pid=MOBFWQ6BXGJCEYNY&lid=LSTMOBFWQ6BXGJCEYNYZXSHRJ&marketplace=FLIPKART')"
   ]
  },
  {
   "cell_type": "code",
   "execution_count": 178,
   "id": "56830dbc",
   "metadata": {},
   "outputs": [],
   "source": [
    "#creating empty lists and scraping the required data\n",
    "\n",
    "Rating=[]\n",
    "Review_summary=[]\n",
    "Full_review=[]\n",
    "\n",
    "\n",
    "for i in range(10):\n",
    "    rating= driver.find_elements(By.XPATH, '//div[@class=\"_3LWZlK _1BLPMq\"]')\n",
    "    for i in rating:Rating.append(i.text)\n",
    "\n",
    "    review= driver.find_elements(By.XPATH, '//p[@class=\"_2-N8zT\"]')\n",
    "    for i in review:Review_summary.append(i.text)\n",
    "\n",
    "    full_review= driver.find_elements(By.XPATH, '//div[@class=\"t-ZTKy\"]')\n",
    "    for i in full_review:Full_review.append(i.text)  \n",
    " "
   ]
  },
  {
   "cell_type": "code",
   "execution_count": 179,
   "id": "276a5211",
   "metadata": {},
   "outputs": [
    {
     "name": "stdout",
     "output_type": "stream",
     "text": [
      "100 100 100\n"
     ]
    }
   ],
   "source": [
    "print(len(Rating),len(Review_summary),len(Full_review))"
   ]
  },
  {
   "cell_type": "code",
   "execution_count": 180,
   "id": "b33771d4",
   "metadata": {},
   "outputs": [
    {
     "data": {
      "text/html": [
       "<div>\n",
       "<style scoped>\n",
       "    .dataframe tbody tr th:only-of-type {\n",
       "        vertical-align: middle;\n",
       "    }\n",
       "\n",
       "    .dataframe tbody tr th {\n",
       "        vertical-align: top;\n",
       "    }\n",
       "\n",
       "    .dataframe thead th {\n",
       "        text-align: right;\n",
       "    }\n",
       "</style>\n",
       "<table border=\"1\" class=\"dataframe\">\n",
       "  <thead>\n",
       "    <tr style=\"text-align: right;\">\n",
       "      <th></th>\n",
       "      <th>Rating</th>\n",
       "      <th>Review_summary</th>\n",
       "      <th>Full_review</th>\n",
       "    </tr>\n",
       "  </thead>\n",
       "  <tbody>\n",
       "    <tr>\n",
       "      <th>0</th>\n",
       "      <td>5</td>\n",
       "      <td>Awesome</td>\n",
       "      <td>iPhone 11 is a good phone. Not a very big diff...</td>\n",
       "    </tr>\n",
       "    <tr>\n",
       "      <th>1</th>\n",
       "      <td>5</td>\n",
       "      <td>Just wow!</td>\n",
       "      <td>Perfect Product!!</td>\n",
       "    </tr>\n",
       "    <tr>\n",
       "      <th>2</th>\n",
       "      <td>5</td>\n",
       "      <td>Perfect product!</td>\n",
       "      <td>V Good all</td>\n",
       "    </tr>\n",
       "    <tr>\n",
       "      <th>3</th>\n",
       "      <td>5</td>\n",
       "      <td>Must buy!</td>\n",
       "      <td>It’s really awesome</td>\n",
       "    </tr>\n",
       "    <tr>\n",
       "      <th>4</th>\n",
       "      <td>5</td>\n",
       "      <td>Brilliant</td>\n",
       "      <td>Excellent Phone.</td>\n",
       "    </tr>\n",
       "    <tr>\n",
       "      <th>...</th>\n",
       "      <td>...</td>\n",
       "      <td>...</td>\n",
       "      <td>...</td>\n",
       "    </tr>\n",
       "    <tr>\n",
       "      <th>95</th>\n",
       "      <td>4</td>\n",
       "      <td>Good quality product</td>\n",
       "      <td>Awesome</td>\n",
       "    </tr>\n",
       "    <tr>\n",
       "      <th>96</th>\n",
       "      <td>5</td>\n",
       "      <td>Brilliant</td>\n",
       "      <td>very good camera quality</td>\n",
       "    </tr>\n",
       "    <tr>\n",
       "      <th>97</th>\n",
       "      <td>5</td>\n",
       "      <td>Terrific purchase</td>\n",
       "      <td>Value for money 🖤🖤</td>\n",
       "    </tr>\n",
       "    <tr>\n",
       "      <th>98</th>\n",
       "      <td>5</td>\n",
       "      <td>Fabulous!</td>\n",
       "      <td>It’s very good battery life and display and vi...</td>\n",
       "    </tr>\n",
       "    <tr>\n",
       "      <th>99</th>\n",
       "      <td>5</td>\n",
       "      <td>Great product</td>\n",
       "      <td>Purple is best</td>\n",
       "    </tr>\n",
       "  </tbody>\n",
       "</table>\n",
       "<p>100 rows × 3 columns</p>\n",
       "</div>"
      ],
      "text/plain": [
       "   Rating        Review_summary  \\\n",
       "0       5               Awesome   \n",
       "1       5             Just wow!   \n",
       "2       5      Perfect product!   \n",
       "3       5             Must buy!   \n",
       "4       5             Brilliant   \n",
       "..    ...                   ...   \n",
       "95      4  Good quality product   \n",
       "96      5             Brilliant   \n",
       "97      5     Terrific purchase   \n",
       "98      5             Fabulous!   \n",
       "99      5         Great product   \n",
       "\n",
       "                                          Full_review  \n",
       "0   iPhone 11 is a good phone. Not a very big diff...  \n",
       "1                                   Perfect Product!!  \n",
       "2                                          V Good all  \n",
       "3                                 It’s really awesome  \n",
       "4                                    Excellent Phone.  \n",
       "..                                                ...  \n",
       "95                                            Awesome  \n",
       "96                           very good camera quality  \n",
       "97                                 Value for money 🖤🖤  \n",
       "98  It’s very good battery life and display and vi...  \n",
       "99                                     Purple is best  \n",
       "\n",
       "[100 rows x 3 columns]"
      ]
     },
     "execution_count": 180,
     "metadata": {},
     "output_type": "execute_result"
    }
   ],
   "source": [
    "#creating DataFrame\n",
    "\n",
    "df1 = pd.DataFrame({'Rating':Rating,'Review_summary':Review_summary,'Full_review':Full_review})\n",
    "\n",
    "df1"
   ]
  },
  {
   "cell_type": "markdown",
   "id": "09102012",
   "metadata": {},
   "source": [
    "# Q6: Scrape data for first 100 sneakers you find when you visit flipkart.com and search for “sneakers” in the search field.\n",
    "You have to scrape 3 attributes of each sneaker:\n",
    "1. Brand\n",
    "2. Product Description\n",
    "3. Price\n",
    "As shown in the below image, you have to scrape the above attributes."
   ]
  },
  {
   "cell_type": "code",
   "execution_count": 301,
   "id": "0343c3c3",
   "metadata": {},
   "outputs": [
    {
     "name": "stderr",
     "output_type": "stream",
     "text": [
      "There was an error managing chrome (error sending request for url (https://googlechromelabs.github.io/chrome-for-testing/known-good-versions-with-downloads.json): connection error: connection reset); using driver found in the cache\n"
     ]
    }
   ],
   "source": [
    "driver=webdriver.Chrome()"
   ]
  },
  {
   "cell_type": "code",
   "execution_count": 302,
   "id": "b191bcfe",
   "metadata": {},
   "outputs": [],
   "source": [
    "#opening the flipkart website on automated chrome browser\n",
    "\n",
    "driver.get('https://www.flipkart.com/')"
   ]
  },
  {
   "cell_type": "code",
   "execution_count": 303,
   "id": "35ba21ee",
   "metadata": {},
   "outputs": [],
   "source": [
    "pop_close = driver.find_element(By.XPATH, '/html/body/div[3]/div/span')\n",
    "pop_close.click()"
   ]
  },
  {
   "cell_type": "code",
   "execution_count": 306,
   "id": "d79bf548",
   "metadata": {},
   "outputs": [],
   "source": [
    "search_item = driver.find_element(By.XPATH, '/html/body/div[1]/div/div[1]/div/div/div/div/div[1]/div/div[1]/div/div[1]/header/div[1]/div[2]/form/div/div/input')\n",
    "search_item.send_keys(\"sneakers\")"
   ]
  },
  {
   "cell_type": "code",
   "execution_count": 307,
   "id": "8616e91e",
   "metadata": {},
   "outputs": [],
   "source": [
    "click_search_button = driver.find_element(By.XPATH, '/html/body/div[1]/div/div[1]/div/div/div/div/div[1]/div/div[1]/div/div[1]/header/div[1]/div[2]/form/div/button')\n",
    "click_search_button.click()"
   ]
  },
  {
   "cell_type": "code",
   "execution_count": 309,
   "id": "1742ddce",
   "metadata": {},
   "outputs": [],
   "source": [
    "#creating empty lists and scraping the required data\n",
    "\n",
    "Brand1=[]\n",
    "Product_Description1=[]\n",
    "Price1=[]\n",
    "\n",
    "for i in range(3):\n",
    "    \n",
    "    \n",
    "    brand1 = driver.find_elements(By.XPATH, '//div[@class=\"_2WkVRV\"]')\n",
    "    prod_des1 = driver.find_elements(By.XPATH, '//a[@class=\"IRpwTa\"]')\n",
    "    price1 = driver.find_elements(By.XPATH, '//div[@class=\"_30jeq3\"]')\n",
    "\n",
    "\n",
    "    for i in brand1:\n",
    "        Brand1.append(i.text)\n",
    "    for i in prod_des1:\n",
    "        Product_Description1.append(i.text)\n",
    "    for i in price1:\n",
    "        Price1.append(i.text)"
   ]
  },
  {
   "cell_type": "code",
   "execution_count": 311,
   "id": "a26fca15",
   "metadata": {},
   "outputs": [],
   "source": [
    "#click on next button\n",
    "\n",
    "next_button1=driver.find_element(By.XPATH, '/html/body/div/div/div[3]/div[1]/div[2]/div[12]/div/div/nav/a[11]')\n",
    "next_button1.click()"
   ]
  },
  {
   "cell_type": "code",
   "execution_count": 312,
   "id": "5385ac92",
   "metadata": {},
   "outputs": [
    {
     "name": "stdout",
     "output_type": "stream",
     "text": [
      "120 120 120\n"
     ]
    }
   ],
   "source": [
    "print(len(Brand1),len(Product_Description1),len(Price1))"
   ]
  },
  {
   "cell_type": "code",
   "execution_count": 313,
   "id": "676cd497",
   "metadata": {},
   "outputs": [
    {
     "data": {
      "text/html": [
       "<div>\n",
       "<style scoped>\n",
       "    .dataframe tbody tr th:only-of-type {\n",
       "        vertical-align: middle;\n",
       "    }\n",
       "\n",
       "    .dataframe tbody tr th {\n",
       "        vertical-align: top;\n",
       "    }\n",
       "\n",
       "    .dataframe thead th {\n",
       "        text-align: right;\n",
       "    }\n",
       "</style>\n",
       "<table border=\"1\" class=\"dataframe\">\n",
       "  <thead>\n",
       "    <tr style=\"text-align: right;\">\n",
       "      <th></th>\n",
       "      <th>Brand</th>\n",
       "      <th>Product_Description</th>\n",
       "      <th>Price</th>\n",
       "    </tr>\n",
       "  </thead>\n",
       "  <tbody>\n",
       "    <tr>\n",
       "      <th>0</th>\n",
       "      <td>BRUTON</td>\n",
       "      <td>Combo Pack Of 2 Men’s Casual Shoes Sneakers Fo...</td>\n",
       "      <td>₹497</td>\n",
       "    </tr>\n",
       "    <tr>\n",
       "      <th>1</th>\n",
       "      <td>BRUTON</td>\n",
       "      <td>Synthetic Leather |Lightweight|Comfort|Summer|...</td>\n",
       "      <td>₹297</td>\n",
       "    </tr>\n",
       "    <tr>\n",
       "      <th>2</th>\n",
       "      <td>URBANBOX</td>\n",
       "      <td>Trending Stylish Casual Outdoor Sneakers Shoes...</td>\n",
       "      <td>₹299</td>\n",
       "    </tr>\n",
       "    <tr>\n",
       "      <th>3</th>\n",
       "      <td>Layasa</td>\n",
       "      <td>Sneakers For Men</td>\n",
       "      <td>₹299</td>\n",
       "    </tr>\n",
       "    <tr>\n",
       "      <th>4</th>\n",
       "      <td>PUMA</td>\n",
       "      <td>Impel Sneakers For Men</td>\n",
       "      <td>₹1,709</td>\n",
       "    </tr>\n",
       "    <tr>\n",
       "      <th>...</th>\n",
       "      <td>...</td>\n",
       "      <td>...</td>\n",
       "      <td>...</td>\n",
       "    </tr>\n",
       "    <tr>\n",
       "      <th>95</th>\n",
       "      <td>PUMA</td>\n",
       "      <td>Hustle V2 Sneakers For Men</td>\n",
       "      <td>₹1,198</td>\n",
       "    </tr>\n",
       "    <tr>\n",
       "      <th>96</th>\n",
       "      <td>BRUTON</td>\n",
       "      <td>Combo Pack Of 2 Casual Shoes for mens Sneakers...</td>\n",
       "      <td>₹497</td>\n",
       "    </tr>\n",
       "    <tr>\n",
       "      <th>97</th>\n",
       "      <td>BRUTON</td>\n",
       "      <td>Combo Pack Of 2 Casual Shoes Sneakers For Men</td>\n",
       "      <td>₹497</td>\n",
       "    </tr>\n",
       "    <tr>\n",
       "      <th>98</th>\n",
       "      <td>RED TAPE</td>\n",
       "      <td>Sneakers For Men</td>\n",
       "      <td>₹1,187</td>\n",
       "    </tr>\n",
       "    <tr>\n",
       "      <th>99</th>\n",
       "      <td>U.S. POLO ASSN.</td>\n",
       "      <td>CLARKIN Sneakers For Men</td>\n",
       "      <td>₹1,429</td>\n",
       "    </tr>\n",
       "  </tbody>\n",
       "</table>\n",
       "<p>100 rows × 3 columns</p>\n",
       "</div>"
      ],
      "text/plain": [
       "              Brand                                Product_Description   Price\n",
       "0            BRUTON  Combo Pack Of 2 Men’s Casual Shoes Sneakers Fo...    ₹497\n",
       "1            BRUTON  Synthetic Leather |Lightweight|Comfort|Summer|...    ₹297\n",
       "2          URBANBOX  Trending Stylish Casual Outdoor Sneakers Shoes...    ₹299\n",
       "3            Layasa                                   Sneakers For Men    ₹299\n",
       "4              PUMA                             Impel Sneakers For Men  ₹1,709\n",
       "..              ...                                                ...     ...\n",
       "95             PUMA                         Hustle V2 Sneakers For Men  ₹1,198\n",
       "96           BRUTON  Combo Pack Of 2 Casual Shoes for mens Sneakers...    ₹497\n",
       "97           BRUTON      Combo Pack Of 2 Casual Shoes Sneakers For Men    ₹497\n",
       "98         RED TAPE                                   Sneakers For Men  ₹1,187\n",
       "99  U.S. POLO ASSN.                           CLARKIN Sneakers For Men  ₹1,429\n",
       "\n",
       "[100 rows x 3 columns]"
      ]
     },
     "execution_count": 313,
     "metadata": {},
     "output_type": "execute_result"
    }
   ],
   "source": [
    "df2 = pd.DataFrame({'Brand':Brand1,'Product_Description':Product_Description1,'Price':Price1})\n",
    "\n",
    "df2[0:100]"
   ]
  },
  {
   "cell_type": "markdown",
   "id": "6070d4a4",
   "metadata": {},
   "source": [
    "# Q7: Go to webpage https://www.amazon.in/ Enter “Laptop” in the search field and then click the search icon. Then set CPU Type filter to “Intel Core i7” as shown in the below image:\n",
    "After setting the filters scrape first 10 laptops data. You have to scrape 3 attributes for each laptop:\n",
    "1. Title\n",
    "2. Ratings\n",
    "3. Price\n",
    "        "
   ]
  },
  {
   "cell_type": "code",
   "execution_count": 314,
   "id": "dd7d2efa",
   "metadata": {},
   "outputs": [],
   "source": [
    "driver=webdriver.Chrome()"
   ]
  },
  {
   "cell_type": "code",
   "execution_count": 315,
   "id": "1dfd7713",
   "metadata": {},
   "outputs": [],
   "source": [
    "#opening the amazon website on automated chrome browser\n",
    "\n",
    "driver.get('https://www.amazon.in/')"
   ]
  },
  {
   "cell_type": "code",
   "execution_count": 319,
   "id": "fa38b1f4",
   "metadata": {},
   "outputs": [],
   "source": [
    "#searching for'Laptop' in the search field\n",
    "\n",
    "search_item1=driver.find_element(By.XPATH, '/html/body/div[1]/div[1]/div/div[2]/form/div/div/input')\n",
    "search_item1.send_keys(\"laptop\")"
   ]
  },
  {
   "cell_type": "code",
   "execution_count": 320,
   "id": "626c79d5",
   "metadata": {},
   "outputs": [],
   "source": [
    "\n",
    "#click on search icon\n",
    "\n",
    "click_search_icon=driver.find_element(By.XPATH, '/html/body/div[1]/div[1]/div/div[2]/form/input')\n",
    "click_search_icon.click()\n",
    "#select intel core 7 filte"
   ]
  },
  {
   "cell_type": "code",
   "execution_count": 322,
   "id": "c5b7a46d",
   "metadata": {},
   "outputs": [],
   "source": [
    "#select intel core 7 filter\n",
    "\n",
    "intel_core7 = driver.find_element(By.XPATH, '/html/body/div[1]/div[1]/div[1]/div[2]/div/div[3]/span/div[1]/div/div/div[6]/ul[6]/span[9]/li/span/a/div/label/i')\n",
    "intel_core7.click()"
   ]
  },
  {
   "cell_type": "code",
   "execution_count": 326,
   "id": "371e6496",
   "metadata": {},
   "outputs": [],
   "source": [
    "#creating empty lists and scraping the required data\n",
    "\n",
    "Title2=[]\n",
    "Ratings2=[]\n",
    "Price2=[]\n",
    "\n",
    "title2 = driver.find_elements(By.XPATH, '//span[@class=\"a-size-medium a-color-base a-text-normal\"]')\n",
    "rating2 = driver.find_elements(By.XPATH, '//span[@class=\"a-size-base s-underline-text\"]')\n",
    "price2 = driver.find_elements(By.XPATH, \"//span[@class='a-price-whole']\")\n",
    "\n",
    "for i in title2:Title2.append(i.text)\n",
    "for i in rating2:Ratings2.append(i.text)    \n",
    "for i in price2:Price2.append(i.text)"
   ]
  },
  {
   "cell_type": "code",
   "execution_count": 327,
   "id": "316ecdaa",
   "metadata": {},
   "outputs": [
    {
     "name": "stdout",
     "output_type": "stream",
     "text": [
      "24 24 24\n"
     ]
    }
   ],
   "source": [
    "print(len(Title2),len(Ratings2),len(Price2))"
   ]
  },
  {
   "cell_type": "code",
   "execution_count": 329,
   "id": "5ba79bf0",
   "metadata": {},
   "outputs": [
    {
     "data": {
      "text/html": [
       "<div>\n",
       "<style scoped>\n",
       "    .dataframe tbody tr th:only-of-type {\n",
       "        vertical-align: middle;\n",
       "    }\n",
       "\n",
       "    .dataframe tbody tr th {\n",
       "        vertical-align: top;\n",
       "    }\n",
       "\n",
       "    .dataframe thead th {\n",
       "        text-align: right;\n",
       "    }\n",
       "</style>\n",
       "<table border=\"1\" class=\"dataframe\">\n",
       "  <thead>\n",
       "    <tr style=\"text-align: right;\">\n",
       "      <th></th>\n",
       "      <th>Title</th>\n",
       "      <th>Ratings</th>\n",
       "      <th>Price</th>\n",
       "    </tr>\n",
       "  </thead>\n",
       "  <tbody>\n",
       "    <tr>\n",
       "      <th>0</th>\n",
       "      <td>ASUS TUF Gaming F15, 15.6\"(39.62 cms) FHD 144H...</td>\n",
       "      <td>51</td>\n",
       "      <td>68,990</td>\n",
       "    </tr>\n",
       "    <tr>\n",
       "      <th>1</th>\n",
       "      <td>HP Laptop 15s, 12th Gen Intel Core i7-1255U, 1...</td>\n",
       "      <td>20</td>\n",
       "      <td>63,990</td>\n",
       "    </tr>\n",
       "    <tr>\n",
       "      <th>2</th>\n",
       "      <td>MSI Modern 14, Intel 12th Gen. i7-1255U, 36CM ...</td>\n",
       "      <td>22</td>\n",
       "      <td>49,990</td>\n",
       "    </tr>\n",
       "    <tr>\n",
       "      <th>3</th>\n",
       "      <td>Lenovo IdeaPad Slim 3 Intel Core i7 11th Gen 1...</td>\n",
       "      <td>59</td>\n",
       "      <td>52,990</td>\n",
       "    </tr>\n",
       "    <tr>\n",
       "      <th>4</th>\n",
       "      <td>MSI GF63 Thin, Intel Core i7-11800H, 40CM FHD ...</td>\n",
       "      <td>96</td>\n",
       "      <td>64,990</td>\n",
       "    </tr>\n",
       "    <tr>\n",
       "      <th>5</th>\n",
       "      <td>Dell Inspiron 5430 Laptop, Intel Core i7-1360P...</td>\n",
       "      <td>46</td>\n",
       "      <td>84,990</td>\n",
       "    </tr>\n",
       "    <tr>\n",
       "      <th>6</th>\n",
       "      <td>ASUS Vivobook 15, Intel Core i7-12650H 12th Ge...</td>\n",
       "      <td>329</td>\n",
       "      <td>60,990</td>\n",
       "    </tr>\n",
       "    <tr>\n",
       "      <th>7</th>\n",
       "      <td>ASUS TUF Gaming F15, 15.6-inch (39.62 cms) FHD...</td>\n",
       "      <td>85</td>\n",
       "      <td>85,990</td>\n",
       "    </tr>\n",
       "    <tr>\n",
       "      <th>8</th>\n",
       "      <td>Acer Aspire Lite Premium Metal Laptop 11th Gen...</td>\n",
       "      <td>170</td>\n",
       "      <td>47,990</td>\n",
       "    </tr>\n",
       "    <tr>\n",
       "      <th>9</th>\n",
       "      <td>Acer Predator Helios Neo 16 Gaming Laptop 13th...</td>\n",
       "      <td>124</td>\n",
       "      <td>1,09,990</td>\n",
       "    </tr>\n",
       "  </tbody>\n",
       "</table>\n",
       "</div>"
      ],
      "text/plain": [
       "                                               Title Ratings     Price\n",
       "0  ASUS TUF Gaming F15, 15.6\"(39.62 cms) FHD 144H...      51    68,990\n",
       "1  HP Laptop 15s, 12th Gen Intel Core i7-1255U, 1...      20    63,990\n",
       "2  MSI Modern 14, Intel 12th Gen. i7-1255U, 36CM ...      22    49,990\n",
       "3  Lenovo IdeaPad Slim 3 Intel Core i7 11th Gen 1...      59    52,990\n",
       "4  MSI GF63 Thin, Intel Core i7-11800H, 40CM FHD ...      96    64,990\n",
       "5  Dell Inspiron 5430 Laptop, Intel Core i7-1360P...      46    84,990\n",
       "6  ASUS Vivobook 15, Intel Core i7-12650H 12th Ge...     329    60,990\n",
       "7  ASUS TUF Gaming F15, 15.6-inch (39.62 cms) FHD...      85    85,990\n",
       "8  Acer Aspire Lite Premium Metal Laptop 11th Gen...     170    47,990\n",
       "9  Acer Predator Helios Neo 16 Gaming Laptop 13th...     124  1,09,990"
      ]
     },
     "execution_count": 329,
     "metadata": {},
     "output_type": "execute_result"
    }
   ],
   "source": [
    "Laptops = pd.DataFrame({'Title':Title2,'Ratings':Ratings2, 'Price':Price2})\n",
    "Laptops[0:10]"
   ]
  },
  {
   "cell_type": "markdown",
   "id": "cfca97f3",
   "metadata": {},
   "source": [
    "# Q8: Write a python program to scrape data for Top 1000 Quotes of All Time.\n",
    "The above task will be done in following steps:\n",
    "1. First get the webpagehttps://www.azquotes.com/\n",
    "2. Click on Top Quotes\n",
    "\n",
    "3. Than scrap a) Quote b) Author c) Type Of Quotes"
   ]
  },
  {
   "cell_type": "code",
   "execution_count": 330,
   "id": "f08c7e5c",
   "metadata": {},
   "outputs": [],
   "source": [
    "driver=webdriver.Chrome()"
   ]
  },
  {
   "cell_type": "code",
   "execution_count": 331,
   "id": "8ffd449a",
   "metadata": {},
   "outputs": [],
   "source": [
    "#opening the website on automated chrome browser\n",
    "\n",
    "driver.get('https://www.azquotes.com/')"
   ]
  },
  {
   "cell_type": "code",
   "execution_count": 332,
   "id": "11969a6a",
   "metadata": {},
   "outputs": [],
   "source": [
    "#click on Top Quotes\n",
    "\n",
    "click_top_quotes=driver.find_element(By.XPATH, '/html/body/div[1]/div[2]/div[1]/div/div[3]/ul/li[5]/a')\n",
    "click_top_quotes.click()"
   ]
  },
  {
   "cell_type": "code",
   "execution_count": 335,
   "id": "3b73c6af",
   "metadata": {},
   "outputs": [],
   "source": [
    "#creating empty list and scraping the required data\n",
    "\n",
    "Quote=[]\n",
    "Author=[]\n",
    "Type_of_Quotes=[]\n",
    "\n",
    "for i in range(3):\n",
    "    \n",
    "    \n",
    "    quote=driver.find_elements(By.XPATH, '//a[@class=\"title\"]')\n",
    "    author=driver.find_elements(By.XPATH, '//div[@class=\"author\"]')\n",
    "    type_of_quotes=driver.find_elements(By.XPATH, '//div[@class=\"tags\"]')\n",
    "\n",
    "\n",
    "    for i in quote:\n",
    "        Quote.append(i.text)\n",
    "    for i in author:\n",
    "        Author.append(i.text)\n",
    "    for i in type_of_quotes:\n",
    "        Type_of_Quotes.append(i.text)"
   ]
  },
  {
   "cell_type": "code",
   "execution_count": 336,
   "id": "65286e92",
   "metadata": {},
   "outputs": [
    {
     "name": "stdout",
     "output_type": "stream",
     "text": [
      "300 300 300\n"
     ]
    }
   ],
   "source": [
    "print(len(Quote),len(Author),len(Type_of_Quotes))"
   ]
  },
  {
   "cell_type": "code",
   "execution_count": 337,
   "id": "e769bdd5",
   "metadata": {},
   "outputs": [
    {
     "data": {
      "text/html": [
       "<div>\n",
       "<style scoped>\n",
       "    .dataframe tbody tr th:only-of-type {\n",
       "        vertical-align: middle;\n",
       "    }\n",
       "\n",
       "    .dataframe tbody tr th {\n",
       "        vertical-align: top;\n",
       "    }\n",
       "\n",
       "    .dataframe thead th {\n",
       "        text-align: right;\n",
       "    }\n",
       "</style>\n",
       "<table border=\"1\" class=\"dataframe\">\n",
       "  <thead>\n",
       "    <tr style=\"text-align: right;\">\n",
       "      <th></th>\n",
       "      <th>Quote</th>\n",
       "      <th>Author</th>\n",
       "      <th>Type_of_Quotes</th>\n",
       "    </tr>\n",
       "  </thead>\n",
       "  <tbody>\n",
       "    <tr>\n",
       "      <th>0</th>\n",
       "      <td>The essence of strategy is choosing what not t...</td>\n",
       "      <td>Michael Porter</td>\n",
       "      <td>Essence, Deep Thought, Transcendentalism</td>\n",
       "    </tr>\n",
       "    <tr>\n",
       "      <th>1</th>\n",
       "      <td>One cannot and must not try to erase the past ...</td>\n",
       "      <td>Golda Meir</td>\n",
       "      <td>Inspiration, Past, Trying</td>\n",
       "    </tr>\n",
       "    <tr>\n",
       "      <th>2</th>\n",
       "      <td>Patriotism means to stand by the country. It d...</td>\n",
       "      <td>Theodore Roosevelt</td>\n",
       "      <td>Country, Peace, War</td>\n",
       "    </tr>\n",
       "    <tr>\n",
       "      <th>3</th>\n",
       "      <td>Death is something inevitable. When a man has ...</td>\n",
       "      <td>Nelson Mandela</td>\n",
       "      <td>Inspirational, Motivational, Death</td>\n",
       "    </tr>\n",
       "    <tr>\n",
       "      <th>4</th>\n",
       "      <td>You have to love a nation that celebrates its ...</td>\n",
       "      <td>Erma Bombeck</td>\n",
       "      <td>4th Of July, Food, Patriotic</td>\n",
       "    </tr>\n",
       "    <tr>\n",
       "      <th>...</th>\n",
       "      <td>...</td>\n",
       "      <td>...</td>\n",
       "      <td>...</td>\n",
       "    </tr>\n",
       "    <tr>\n",
       "      <th>95</th>\n",
       "      <td>When the going gets weird, the weird turn pro.</td>\n",
       "      <td>Hunter S. Thompson</td>\n",
       "      <td>Music, Sports, Hunting</td>\n",
       "    </tr>\n",
       "    <tr>\n",
       "      <th>96</th>\n",
       "      <td>When a train goes through a tunnel and it gets...</td>\n",
       "      <td>Corrie Ten Boom</td>\n",
       "      <td>Trust, Encouraging, Uplifting</td>\n",
       "    </tr>\n",
       "    <tr>\n",
       "      <th>97</th>\n",
       "      <td>If you think you are too small to make a diffe...</td>\n",
       "      <td>Dalai Lama</td>\n",
       "      <td>Inspirational, Funny, Change</td>\n",
       "    </tr>\n",
       "    <tr>\n",
       "      <th>98</th>\n",
       "      <td>God doesn't require us to succeed, he only req...</td>\n",
       "      <td>Mother Teresa</td>\n",
       "      <td>Success, God, Mother</td>\n",
       "    </tr>\n",
       "    <tr>\n",
       "      <th>99</th>\n",
       "      <td>Change your thoughts and you change your world.</td>\n",
       "      <td>Norman Vincent Peale</td>\n",
       "      <td>Inspirational, Motivational, Change</td>\n",
       "    </tr>\n",
       "  </tbody>\n",
       "</table>\n",
       "<p>100 rows × 3 columns</p>\n",
       "</div>"
      ],
      "text/plain": [
       "                                                Quote                Author  \\\n",
       "0   The essence of strategy is choosing what not t...        Michael Porter   \n",
       "1   One cannot and must not try to erase the past ...            Golda Meir   \n",
       "2   Patriotism means to stand by the country. It d...    Theodore Roosevelt   \n",
       "3   Death is something inevitable. When a man has ...        Nelson Mandela   \n",
       "4   You have to love a nation that celebrates its ...          Erma Bombeck   \n",
       "..                                                ...                   ...   \n",
       "95     When the going gets weird, the weird turn pro.    Hunter S. Thompson   \n",
       "96  When a train goes through a tunnel and it gets...       Corrie Ten Boom   \n",
       "97  If you think you are too small to make a diffe...            Dalai Lama   \n",
       "98  God doesn't require us to succeed, he only req...         Mother Teresa   \n",
       "99    Change your thoughts and you change your world.  Norman Vincent Peale   \n",
       "\n",
       "                              Type_of_Quotes  \n",
       "0   Essence, Deep Thought, Transcendentalism  \n",
       "1                  Inspiration, Past, Trying  \n",
       "2                        Country, Peace, War  \n",
       "3         Inspirational, Motivational, Death  \n",
       "4               4th Of July, Food, Patriotic  \n",
       "..                                       ...  \n",
       "95                    Music, Sports, Hunting  \n",
       "96             Trust, Encouraging, Uplifting  \n",
       "97              Inspirational, Funny, Change  \n",
       "98                      Success, God, Mother  \n",
       "99       Inspirational, Motivational, Change  \n",
       "\n",
       "[100 rows x 3 columns]"
      ]
     },
     "execution_count": 337,
     "metadata": {},
     "output_type": "execute_result"
    }
   ],
   "source": [
    "quotes = pd.DataFrame({'Quote':Quote,'Author':Author,'Type_of_Quotes':Type_of_Quotes})\n",
    "\n",
    "quotes[0:100]"
   ]
  },
  {
   "cell_type": "markdown",
   "id": "c08054c9",
   "metadata": {},
   "source": [
    "# Q9: Write a python program to display list of respected former Prime Ministers of India(i.e. Name, Born-Dead, Term of office, Remarks) from https://www.jagranjosh.com/.\n",
    "This task will be done in following steps:\n",
    "1. First get the webpagehttps://www.jagranjosh.com/\n",
    "2. Then You have to click on the GK option\n",
    "3. Then click on the List of all Prime Ministers of India\n",
    "4. Then scrap the mentioned data and make theDataFrame."
   ]
  },
  {
   "cell_type": "code",
   "execution_count": 12,
   "id": "9346864d",
   "metadata": {},
   "outputs": [],
   "source": [
    "driver=webdriver.Chrome()"
   ]
  },
  {
   "cell_type": "code",
   "execution_count": 13,
   "id": "dc5d7d77",
   "metadata": {},
   "outputs": [],
   "source": [
    "#opening the website on automated chrome browser\n",
    "\n",
    "driver.get('https://www.jagranjosh.com/')"
   ]
  },
  {
   "cell_type": "code",
   "execution_count": 14,
   "id": "56f26795",
   "metadata": {},
   "outputs": [],
   "source": [
    "pop_up_window=driver.find_element(By.XPATH, '/html/body/div[2]/div[2]/div[1]/div[2]/div[2]/button[1]/p')\n",
    "pop_up_window.click()"
   ]
  },
  {
   "cell_type": "code",
   "execution_count": 15,
   "id": "499942e4",
   "metadata": {},
   "outputs": [],
   "source": [
    "#click on GK Option\n",
    "\n",
    "click_jk_option=driver.find_element(By.XPATH, \"/html/body/div/header/nav/div/div/div[3]/ul/li[6]/a\")\n",
    "click_jk_option.click()"
   ]
  },
  {
   "cell_type": "code",
   "execution_count": 16,
   "id": "19b45ebf",
   "metadata": {},
   "outputs": [],
   "source": [
    "pop_up=driver.find_element(By.XPATH, '/html/body/div[3]/div[2]/div[1]/div[2]/div[2]/button[1]/p')\n",
    "pop_up.click()"
   ]
  },
  {
   "cell_type": "code",
   "execution_count": 17,
   "id": "9feaa270",
   "metadata": {},
   "outputs": [],
   "source": [
    "#click on the list All Prime Ministers of India\n",
    "\n",
    "click_all_PMs=driver.find_element(By.XPATH, '/html/body/div[2]/div/div/div[2]/div/div[10]/div/div/ul/li[2]/a')\n",
    "click_all_PMs.click()"
   ]
  },
  {
   "cell_type": "code",
   "execution_count": 18,
   "id": "1e39d45b",
   "metadata": {},
   "outputs": [],
   "source": [
    "pop_up_win=driver.find_element(By.XPATH, '/html/body/div[3]/div[2]/div[1]/div[2]/div[2]/button[1]/p')\n",
    "pop_up_win.click()"
   ]
  },
  {
   "cell_type": "code",
   "execution_count": 23,
   "id": "c1a0a6a2",
   "metadata": {},
   "outputs": [],
   "source": [
    "data=[]\n",
    "table=driver.find_element(By.XPATH,'//div[@class=\"table-box\"]')\n",
    "for tr in table.find_elements(By.XPATH,'//tr'):\n",
    "    row=[item.text for item in tr.find_elements(By.XPATH,'.//td')]\n",
    "    data.append(row)\n",
    "df=pd.DataFrame(tables)"
   ]
  },
  {
   "cell_type": "code",
   "execution_count": 24,
   "id": "9b1188a8",
   "metadata": {},
   "outputs": [],
   "source": [
    "df=df.drop(columns=[0])"
   ]
  },
  {
   "cell_type": "code",
   "execution_count": 25,
   "id": "c07dc2f3",
   "metadata": {},
   "outputs": [
    {
     "data": {
      "text/html": [
       "<div>\n",
       "<style scoped>\n",
       "    .dataframe tbody tr th:only-of-type {\n",
       "        vertical-align: middle;\n",
       "    }\n",
       "\n",
       "    .dataframe tbody tr th {\n",
       "        vertical-align: top;\n",
       "    }\n",
       "\n",
       "    .dataframe thead th {\n",
       "        text-align: right;\n",
       "    }\n",
       "</style>\n",
       "<table border=\"1\" class=\"dataframe\">\n",
       "  <thead>\n",
       "    <tr style=\"text-align: right;\">\n",
       "      <th></th>\n",
       "      <th>Name</th>\n",
       "      <th>Born-Dead</th>\n",
       "      <th>Term of office</th>\n",
       "      <th>Remark</th>\n",
       "    </tr>\n",
       "  </thead>\n",
       "  <tbody>\n",
       "    <tr>\n",
       "      <th>1</th>\n",
       "      <td>Jawahar Lal Nehru</td>\n",
       "      <td>(1889–1964)</td>\n",
       "      <td>15 August 1947 to 27 May 1964\\n16 years, 286 days</td>\n",
       "      <td>The first prime minister of India and the long...</td>\n",
       "    </tr>\n",
       "    <tr>\n",
       "      <th>2</th>\n",
       "      <td>Gulzarilal Nanda (Acting)</td>\n",
       "      <td>(1898-1998)</td>\n",
       "      <td>27 May 1964 to 9 June 1964,\\n13 days</td>\n",
       "      <td>First acting PM of India</td>\n",
       "    </tr>\n",
       "    <tr>\n",
       "      <th>3</th>\n",
       "      <td>Lal Bahadur Shastri</td>\n",
       "      <td>(1904–1966)</td>\n",
       "      <td>9 June 1964 to 11 January 1966\\n1 year, 216 days</td>\n",
       "      <td>He has given the slogan of 'Jai Jawan Jai Kisa...</td>\n",
       "    </tr>\n",
       "    <tr>\n",
       "      <th>4</th>\n",
       "      <td>Gulzari Lal Nanda  (Acting)</td>\n",
       "      <td>(1898-1998)</td>\n",
       "      <td>11 January 1966 to 24 January 1966\\n13 days</td>\n",
       "      <td>-</td>\n",
       "    </tr>\n",
       "    <tr>\n",
       "      <th>5</th>\n",
       "      <td>Indira Gandhi</td>\n",
       "      <td>(1917–1984)</td>\n",
       "      <td>24 January 1966 to 24 March 1977\\n11 years, 59...</td>\n",
       "      <td>First female Prime Minister of India</td>\n",
       "    </tr>\n",
       "    <tr>\n",
       "      <th>6</th>\n",
       "      <td>Morarji Desai</td>\n",
       "      <td>(1896–1995)</td>\n",
       "      <td>24 March 1977 to  28 July 1979 \\n2 year, 126 days</td>\n",
       "      <td>Oldest to become PM (81 years old) and first t...</td>\n",
       "    </tr>\n",
       "    <tr>\n",
       "      <th>7</th>\n",
       "      <td>Charan Singh</td>\n",
       "      <td>(1902–1987)</td>\n",
       "      <td>28 July 1979 to 14 January 1980\\n170 days</td>\n",
       "      <td>Only PM who did not face the Parliament</td>\n",
       "    </tr>\n",
       "    <tr>\n",
       "      <th>8</th>\n",
       "      <td>Indira Gandhi</td>\n",
       "      <td>(1917–1984)</td>\n",
       "      <td>14 January 1980 to 31 October 1984\\n4 years, 2...</td>\n",
       "      <td>The first lady who served as PM for the second...</td>\n",
       "    </tr>\n",
       "    <tr>\n",
       "      <th>9</th>\n",
       "      <td>Rajiv Gandhi</td>\n",
       "      <td>(1944–1991)</td>\n",
       "      <td>31 October 1984 to 2 December 1989\\n5 years, 3...</td>\n",
       "      <td>Youngest to become PM (40 years old)</td>\n",
       "    </tr>\n",
       "    <tr>\n",
       "      <th>10</th>\n",
       "      <td>V. P. Singh</td>\n",
       "      <td>(1931–2008)</td>\n",
       "      <td>2 December 1989 to 10 November 1990\\n343 days</td>\n",
       "      <td>First PM to step down after a vote of no confi...</td>\n",
       "    </tr>\n",
       "    <tr>\n",
       "      <th>11</th>\n",
       "      <td>Chandra Shekhar</td>\n",
       "      <td>(1927–2007)</td>\n",
       "      <td>10 November 1990 to 21 June 1991\\n223 days</td>\n",
       "      <td>He belongs to  Samajwadi Janata Party</td>\n",
       "    </tr>\n",
       "    <tr>\n",
       "      <th>12</th>\n",
       "      <td>P. V. Narasimha Rao</td>\n",
       "      <td>(1921–2004)</td>\n",
       "      <td>21 June 1991 to 16 May 1996\\n4 years, 330 days</td>\n",
       "      <td>First PM from South India</td>\n",
       "    </tr>\n",
       "    <tr>\n",
       "      <th>13</th>\n",
       "      <td>Atal Bihari Vajpayee</td>\n",
       "      <td>(1924- 2018)</td>\n",
       "      <td>16 May 1996 to 1 June 1996\\n16 days</td>\n",
       "      <td>PM for shortest tenure</td>\n",
       "    </tr>\n",
       "    <tr>\n",
       "      <th>14</th>\n",
       "      <td>H. D. Deve Gowda</td>\n",
       "      <td>(born 1933)</td>\n",
       "      <td>1 June 1996 to 21 April 1997\\n324 days</td>\n",
       "      <td>He belongs to  Janata Dal</td>\n",
       "    </tr>\n",
       "    <tr>\n",
       "      <th>15</th>\n",
       "      <td>Inder Kumar Gujral</td>\n",
       "      <td>(1919–2012)</td>\n",
       "      <td>21 April 1997 to 19 March 1998 \\n332 days</td>\n",
       "      <td>------</td>\n",
       "    </tr>\n",
       "    <tr>\n",
       "      <th>16</th>\n",
       "      <td>Atal Bihari Vajpayee</td>\n",
       "      <td>(1924-2018)</td>\n",
       "      <td>19 March 1998 to 22 May 2004 \\n6 years, 64 days</td>\n",
       "      <td>The first non-congress PM who completed a ful...</td>\n",
       "    </tr>\n",
       "    <tr>\n",
       "      <th>17</th>\n",
       "      <td>Manmohan Singh</td>\n",
       "      <td>(born 1932)</td>\n",
       "      <td>22 May 2004 to 26 May 2014   \\n10 years, 4 days</td>\n",
       "      <td>First Sikh PM</td>\n",
       "    </tr>\n",
       "    <tr>\n",
       "      <th>18</th>\n",
       "      <td>Narendra Modi</td>\n",
       "      <td>(born 1950)</td>\n",
       "      <td>26 May 2014 - 2019</td>\n",
       "      <td>4th Prime Minister of India who served two con...</td>\n",
       "    </tr>\n",
       "    <tr>\n",
       "      <th>19</th>\n",
       "      <td>Narendra Modi</td>\n",
       "      <td>(born 1950)</td>\n",
       "      <td>30 May 2019- Incumbent</td>\n",
       "      <td>First non-congress PM with two consecutive ten...</td>\n",
       "    </tr>\n",
       "    <tr>\n",
       "      <th>20</th>\n",
       "      <td>List of Nicknames of Indian Prime Ministers</td>\n",
       "      <td>None</td>\n",
       "      <td>None</td>\n",
       "      <td>None</td>\n",
       "    </tr>\n",
       "  </tbody>\n",
       "</table>\n",
       "</div>"
      ],
      "text/plain": [
       "                                           Name     Born-Dead  \\\n",
       "1                             Jawahar Lal Nehru   (1889–1964)   \n",
       "2                     Gulzarilal Nanda (Acting)   (1898-1998)   \n",
       "3                           Lal Bahadur Shastri   (1904–1966)   \n",
       "4                   Gulzari Lal Nanda  (Acting)   (1898-1998)   \n",
       "5                                 Indira Gandhi   (1917–1984)   \n",
       "6                                 Morarji Desai   (1896–1995)   \n",
       "7                                  Charan Singh   (1902–1987)   \n",
       "8                                 Indira Gandhi   (1917–1984)   \n",
       "9                                  Rajiv Gandhi   (1944–1991)   \n",
       "10                                  V. P. Singh   (1931–2008)   \n",
       "11                              Chandra Shekhar   (1927–2007)   \n",
       "12                          P. V. Narasimha Rao   (1921–2004)   \n",
       "13                         Atal Bihari Vajpayee  (1924- 2018)   \n",
       "14                             H. D. Deve Gowda   (born 1933)   \n",
       "15                           Inder Kumar Gujral   (1919–2012)   \n",
       "16                         Atal Bihari Vajpayee   (1924-2018)   \n",
       "17                               Manmohan Singh   (born 1932)   \n",
       "18                                Narendra Modi   (born 1950)   \n",
       "19                                Narendra Modi   (born 1950)   \n",
       "20  List of Nicknames of Indian Prime Ministers          None   \n",
       "\n",
       "                                       Term of office  \\\n",
       "1   15 August 1947 to 27 May 1964\\n16 years, 286 days   \n",
       "2                27 May 1964 to 9 June 1964,\\n13 days   \n",
       "3    9 June 1964 to 11 January 1966\\n1 year, 216 days   \n",
       "4         11 January 1966 to 24 January 1966\\n13 days   \n",
       "5   24 January 1966 to 24 March 1977\\n11 years, 59...   \n",
       "6   24 March 1977 to  28 July 1979 \\n2 year, 126 days   \n",
       "7           28 July 1979 to 14 January 1980\\n170 days   \n",
       "8   14 January 1980 to 31 October 1984\\n4 years, 2...   \n",
       "9   31 October 1984 to 2 December 1989\\n5 years, 3...   \n",
       "10      2 December 1989 to 10 November 1990\\n343 days   \n",
       "11         10 November 1990 to 21 June 1991\\n223 days   \n",
       "12     21 June 1991 to 16 May 1996\\n4 years, 330 days   \n",
       "13                16 May 1996 to 1 June 1996\\n16 days   \n",
       "14             1 June 1996 to 21 April 1997\\n324 days   \n",
       "15          21 April 1997 to 19 March 1998 \\n332 days   \n",
       "16    19 March 1998 to 22 May 2004 \\n6 years, 64 days   \n",
       "17    22 May 2004 to 26 May 2014   \\n10 years, 4 days   \n",
       "18                                 26 May 2014 - 2019   \n",
       "19                             30 May 2019- Incumbent   \n",
       "20                                               None   \n",
       "\n",
       "                                               Remark  \n",
       "1   The first prime minister of India and the long...  \n",
       "2                            First acting PM of India  \n",
       "3   He has given the slogan of 'Jai Jawan Jai Kisa...  \n",
       "4                                                   -  \n",
       "5                First female Prime Minister of India  \n",
       "6   Oldest to become PM (81 years old) and first t...  \n",
       "7             Only PM who did not face the Parliament  \n",
       "8   The first lady who served as PM for the second...  \n",
       "9                Youngest to become PM (40 years old)  \n",
       "10  First PM to step down after a vote of no confi...  \n",
       "11              He belongs to  Samajwadi Janata Party  \n",
       "12                          First PM from South India  \n",
       "13                             PM for shortest tenure  \n",
       "14                          He belongs to  Janata Dal  \n",
       "15                                             ------  \n",
       "16   The first non-congress PM who completed a ful...  \n",
       "17                                      First Sikh PM  \n",
       "18  4th Prime Minister of India who served two con...  \n",
       "19  First non-congress PM with two consecutive ten...  \n",
       "20                                               None  "
      ]
     },
     "execution_count": 25,
     "metadata": {},
     "output_type": "execute_result"
    }
   ],
   "source": [
    "df.columns=['Name','Born-Dead','Term of office','Remark']\n",
    "df.rename(columns={'Name':'1','Born-Dead':'2','Term of office':'3','Remark':'4'})\n",
    "df.drop(df.index[0])"
   ]
  },
  {
   "cell_type": "markdown",
   "id": "00d58cfa",
   "metadata": {},
   "source": [
    "# Q10: Write a python program to display list of 50 Most expensive cars in the world (i.e. Car name and Price) from https://www.motor1.com/\n",
    "This task will be done in following steps:\n",
    "1. First get the webpage https://www.motor1.com/\n",
    "2. Then You have to type in the search bar ’50 most expensive cars’\n",
    "3. Then click on 50 most expensive cars in the world..\n",
    "4. Then scrap the mentioned data and make the dataframe."
   ]
  },
  {
   "cell_type": "code",
   "execution_count": 110,
   "id": "d49fd2a0",
   "metadata": {},
   "outputs": [],
   "source": [
    "driver=webdriver.Chrome()"
   ]
  },
  {
   "cell_type": "code",
   "execution_count": 111,
   "id": "a79b7f3a",
   "metadata": {},
   "outputs": [],
   "source": [
    "#opening the website on automated chrome browser\n",
    "\n",
    "driver.get('https://www.motor1.com/')"
   ]
  },
  {
   "cell_type": "code",
   "execution_count": 112,
   "id": "963469a1",
   "metadata": {},
   "outputs": [],
   "source": [
    "pop_up=driver.find_element(By.XPATH, '/html/body/div[19]/div[2]/div/div/div[2]/div/div/button')\n",
    "pop_up.click()"
   ]
  },
  {
   "cell_type": "code",
   "execution_count": 116,
   "id": "b3b0b3b9",
   "metadata": {},
   "outputs": [],
   "source": [
    "#typing in the search bar\n",
    "\n",
    "search_bar = driver.find_element(By.XPATH, '/html/body/div[10]/div[2]/div/div/div[3]/div/div/div/form/input')\n",
    "search_bar.send_keys('50 most expensive cars')\n",
    "search_bar.submit()"
   ]
  },
  {
   "cell_type": "code",
   "execution_count": 118,
   "id": "bef0a279",
   "metadata": {},
   "outputs": [],
   "source": [
    "# click on the link\n",
    "link = driver.find_element(By.XPATH, '/html/body/div[10]/div[6]/div/div[1]/div[1]/div[3]/div/div[1]/h3/a')\n",
    "link.click()"
   ]
  },
  {
   "cell_type": "code",
   "execution_count": 136,
   "id": "8feb1789",
   "metadata": {},
   "outputs": [],
   "source": [
    "#creating empty lists and scraping the required data\n",
    "\n",
    "car_name=[]\n",
    "car_price=[]\n",
    "\n",
    "names = driver.find_elements(By.XPATH, '//h3[@class=\"subheader\"]')\n",
    "price = driver.find_elements(By.ID, \"Price\")\n",
    "\n",
    "for i in names:\n",
    "    car_name.append(i.text)\n",
    "    \n",
    "\n",
    "for i in price:\n",
    "    car_price.append(i.text)"
   ]
  },
  {
   "cell_type": "code",
   "execution_count": 137,
   "id": "2cb3af5d",
   "metadata": {},
   "outputs": [
    {
     "name": "stdout",
     "output_type": "stream",
     "text": [
      "51 0\n"
     ]
    }
   ],
   "source": [
    "print(len(car_name),len(car_price))"
   ]
  },
  {
   "cell_type": "code",
   "execution_count": 153,
   "id": "c4dc1817",
   "metadata": {},
   "outputs": [],
   "source": [
    "#creating empty lists and scraping the required data\n",
    "\n",
    "car_name=[]\n",
    "car_price=[]\n",
    "\n",
    "names[0:50] = driver.find_elements(By.CLASS_NAME, 'subheader')\n",
    "\n",
    "for i in names[0:50]:\n",
    "    car_name.append(i.text)\n",
    "    \n",
    "    \n",
    "\n",
    "price = driver.find_elements(By.TAG_NAME, 'strong')\n",
    "\n",
    "for i in price:\n",
    "    car_price.append(i.text)"
   ]
  },
  {
   "cell_type": "code",
   "execution_count": 154,
   "id": "f4a53aea",
   "metadata": {},
   "outputs": [
    {
     "name": "stdout",
     "output_type": "stream",
     "text": [
      "50 50\n"
     ]
    }
   ],
   "source": [
    "print(len(car_name),len(car_price))"
   ]
  },
  {
   "cell_type": "code",
   "execution_count": 155,
   "id": "9dd8ba3b",
   "metadata": {},
   "outputs": [
    {
     "data": {
      "text/html": [
       "<div>\n",
       "<style scoped>\n",
       "    .dataframe tbody tr th:only-of-type {\n",
       "        vertical-align: middle;\n",
       "    }\n",
       "\n",
       "    .dataframe tbody tr th {\n",
       "        vertical-align: top;\n",
       "    }\n",
       "\n",
       "    .dataframe thead th {\n",
       "        text-align: right;\n",
       "    }\n",
       "</style>\n",
       "<table border=\"1\" class=\"dataframe\">\n",
       "  <thead>\n",
       "    <tr style=\"text-align: right;\">\n",
       "      <th></th>\n",
       "      <th>Car_Name</th>\n",
       "      <th>Car_Price</th>\n",
       "    </tr>\n",
       "  </thead>\n",
       "  <tbody>\n",
       "    <tr>\n",
       "      <th>0</th>\n",
       "      <td>Aston Martin Valour</td>\n",
       "      <td>Price: $1.5 Million</td>\n",
       "    </tr>\n",
       "    <tr>\n",
       "      <th>1</th>\n",
       "      <td>McLaren Elva</td>\n",
       "      <td>Price: $1.7 Million</td>\n",
       "    </tr>\n",
       "    <tr>\n",
       "      <th>2</th>\n",
       "      <td>Czinger 21C</td>\n",
       "      <td>Price: $1.7 Million</td>\n",
       "    </tr>\n",
       "    <tr>\n",
       "      <th>3</th>\n",
       "      <td>Ferrari Monza</td>\n",
       "      <td>Price: $1.7 Million</td>\n",
       "    </tr>\n",
       "    <tr>\n",
       "      <th>4</th>\n",
       "      <td>Gordon Murray T.33</td>\n",
       "      <td>Price: $1.7 Million</td>\n",
       "    </tr>\n",
       "    <tr>\n",
       "      <th>5</th>\n",
       "      <td>Koenigsegg Gemera</td>\n",
       "      <td>Price: $1.7 Million</td>\n",
       "    </tr>\n",
       "    <tr>\n",
       "      <th>6</th>\n",
       "      <td>Zenvo TSR-S</td>\n",
       "      <td>Price: $1.7 Million</td>\n",
       "    </tr>\n",
       "    <tr>\n",
       "      <th>7</th>\n",
       "      <td>Hennessey Venom F5</td>\n",
       "      <td>Price: $1.8 Million</td>\n",
       "    </tr>\n",
       "    <tr>\n",
       "      <th>8</th>\n",
       "      <td>Bentley Bacalar</td>\n",
       "      <td>Price: $1.9 Million</td>\n",
       "    </tr>\n",
       "    <tr>\n",
       "      <th>9</th>\n",
       "      <td>Hispano Suiza Carmen Boulogne</td>\n",
       "      <td>Price: $1.9 Million</td>\n",
       "    </tr>\n",
       "    <tr>\n",
       "      <th>10</th>\n",
       "      <td>Bentley Mulliner Batur</td>\n",
       "      <td>Price: $2.0 Million</td>\n",
       "    </tr>\n",
       "    <tr>\n",
       "      <th>11</th>\n",
       "      <td>Deus Vayanne</td>\n",
       "      <td>Price: $2.0 Million</td>\n",
       "    </tr>\n",
       "    <tr>\n",
       "      <th>12</th>\n",
       "      <td>SSC Tuatara</td>\n",
       "      <td>Price: $2.0 Million</td>\n",
       "    </tr>\n",
       "    <tr>\n",
       "      <th>13</th>\n",
       "      <td>Lotus Evija</td>\n",
       "      <td>Price: $2.1 Million</td>\n",
       "    </tr>\n",
       "    <tr>\n",
       "      <th>14</th>\n",
       "      <td>Aston Martin Vulcan</td>\n",
       "      <td>Price: $2.3 Million</td>\n",
       "    </tr>\n",
       "    <tr>\n",
       "      <th>15</th>\n",
       "      <td>Delage D12</td>\n",
       "      <td>Price: $2.3 Million</td>\n",
       "    </tr>\n",
       "    <tr>\n",
       "      <th>16</th>\n",
       "      <td>Ferrari Daytona SP3</td>\n",
       "      <td>Price: $2.3 Million</td>\n",
       "    </tr>\n",
       "    <tr>\n",
       "      <th>17</th>\n",
       "      <td>McLaren Speedtail</td>\n",
       "      <td>Price: $2.3 Million</td>\n",
       "    </tr>\n",
       "    <tr>\n",
       "      <th>18</th>\n",
       "      <td>Rimac Nevera</td>\n",
       "      <td>Price: $2.4 Million</td>\n",
       "    </tr>\n",
       "    <tr>\n",
       "      <th>19</th>\n",
       "      <td>Pagani Utopia</td>\n",
       "      <td>Price: $2.5 Million</td>\n",
       "    </tr>\n",
       "    <tr>\n",
       "      <th>20</th>\n",
       "      <td>Pininfarina Battista</td>\n",
       "      <td>Price: $2.5 Million</td>\n",
       "    </tr>\n",
       "    <tr>\n",
       "      <th>21</th>\n",
       "      <td>Gordon Murray T.50</td>\n",
       "      <td>Price: $2.6 Million</td>\n",
       "    </tr>\n",
       "    <tr>\n",
       "      <th>22</th>\n",
       "      <td>Lamborghini Countach</td>\n",
       "      <td>Price: $2.6 Million</td>\n",
       "    </tr>\n",
       "    <tr>\n",
       "      <th>23</th>\n",
       "      <td>Mercedes-AMG Project One</td>\n",
       "      <td>Price: $2.7 Million</td>\n",
       "    </tr>\n",
       "    <tr>\n",
       "      <th>24</th>\n",
       "      <td>Zenvo Aurora</td>\n",
       "      <td>Price: $2.8 Million</td>\n",
       "    </tr>\n",
       "    <tr>\n",
       "      <th>25</th>\n",
       "      <td>Aston Martin Victor</td>\n",
       "      <td>Price: $3.0 Million</td>\n",
       "    </tr>\n",
       "    <tr>\n",
       "      <th>26</th>\n",
       "      <td>Hennessey Venom F5 Roadster</td>\n",
       "      <td>$3.0 Million</td>\n",
       "    </tr>\n",
       "    <tr>\n",
       "      <th>27</th>\n",
       "      <td>Koenigsegg Jesko</td>\n",
       "      <td>Price: $3.0 Million</td>\n",
       "    </tr>\n",
       "    <tr>\n",
       "      <th>28</th>\n",
       "      <td>Aston Martin Valkyrie</td>\n",
       "      <td>Price: $3.2 Million</td>\n",
       "    </tr>\n",
       "    <tr>\n",
       "      <th>29</th>\n",
       "      <td>W Motors Lykan Hypersport</td>\n",
       "      <td>Price: $3.4 Million</td>\n",
       "    </tr>\n",
       "    <tr>\n",
       "      <th>30</th>\n",
       "      <td>McLaren Solus</td>\n",
       "      <td>$3.5 Million</td>\n",
       "    </tr>\n",
       "    <tr>\n",
       "      <th>31</th>\n",
       "      <td>Lamborghini Sian</td>\n",
       "      <td>Price: $3.6 million</td>\n",
       "    </tr>\n",
       "    <tr>\n",
       "      <th>32</th>\n",
       "      <td>Koenigsegg CC850</td>\n",
       "      <td>Price: $3.7 Million</td>\n",
       "    </tr>\n",
       "    <tr>\n",
       "      <th>33</th>\n",
       "      <td>Bugatti Chiron Super Sport 300+</td>\n",
       "      <td>Price: $3.9 Million</td>\n",
       "    </tr>\n",
       "    <tr>\n",
       "      <th>34</th>\n",
       "      <td>Lamborghini Veneno</td>\n",
       "      <td>Price: $4.5 Million</td>\n",
       "    </tr>\n",
       "    <tr>\n",
       "      <th>35</th>\n",
       "      <td>Bugatti Bolide</td>\n",
       "      <td>Price: $4.7 Million</td>\n",
       "    </tr>\n",
       "    <tr>\n",
       "      <th>36</th>\n",
       "      <td>Pininfarina B95 Speedster</td>\n",
       "      <td>Price: $4.8 Million</td>\n",
       "    </tr>\n",
       "    <tr>\n",
       "      <th>37</th>\n",
       "      <td>Bugatti Mistral</td>\n",
       "      <td>Price: $5.0 Million</td>\n",
       "    </tr>\n",
       "    <tr>\n",
       "      <th>38</th>\n",
       "      <td>Pagani Huayra Imola</td>\n",
       "      <td>Price: $5.4 Million</td>\n",
       "    </tr>\n",
       "    <tr>\n",
       "      <th>39</th>\n",
       "      <td>Bugatti Divo</td>\n",
       "      <td>Price: $5.8 Million</td>\n",
       "    </tr>\n",
       "    <tr>\n",
       "      <th>40</th>\n",
       "      <td>SP Automotive Chaos</td>\n",
       "      <td>Price: $6.4 Million</td>\n",
       "    </tr>\n",
       "    <tr>\n",
       "      <th>41</th>\n",
       "      <td>Pagani Codalunga</td>\n",
       "      <td>Price: $7.4 Million</td>\n",
       "    </tr>\n",
       "    <tr>\n",
       "      <th>42</th>\n",
       "      <td>777 Hypercar</td>\n",
       "      <td>Price: $7.5 Million</td>\n",
       "    </tr>\n",
       "    <tr>\n",
       "      <th>43</th>\n",
       "      <td>Mercedes-Maybach Exelero</td>\n",
       "      <td>Price: $8.0 Million</td>\n",
       "    </tr>\n",
       "    <tr>\n",
       "      <th>44</th>\n",
       "      <td>Bugatti Centodieci</td>\n",
       "      <td>Price: $9.0 Million</td>\n",
       "    </tr>\n",
       "    <tr>\n",
       "      <th>45</th>\n",
       "      <td>Bugatti Chiron Profilée</td>\n",
       "      <td>Price: $10.8 Million</td>\n",
       "    </tr>\n",
       "    <tr>\n",
       "      <th>46</th>\n",
       "      <td>Rolls-Royce Sweptail</td>\n",
       "      <td>Price: $12.8 Million</td>\n",
       "    </tr>\n",
       "    <tr>\n",
       "      <th>47</th>\n",
       "      <td>Bugatti La Voiture Noire</td>\n",
       "      <td>Price: $13.4 Million</td>\n",
       "    </tr>\n",
       "    <tr>\n",
       "      <th>48</th>\n",
       "      <td>Rolls-Royce Boat Tail*</td>\n",
       "      <td>Price: $28.0 Million (est.)</td>\n",
       "    </tr>\n",
       "    <tr>\n",
       "      <th>49</th>\n",
       "      <td>Rolls-Royce La Rose Noire Droptail</td>\n",
       "      <td>Price: $30 Million (est.)</td>\n",
       "    </tr>\n",
       "  </tbody>\n",
       "</table>\n",
       "</div>"
      ],
      "text/plain": [
       "                              Car_Name                    Car_Price\n",
       "0                  Aston Martin Valour          Price: $1.5 Million\n",
       "1                         McLaren Elva          Price: $1.7 Million\n",
       "2                          Czinger 21C          Price: $1.7 Million\n",
       "3                        Ferrari Monza          Price: $1.7 Million\n",
       "4                   Gordon Murray T.33          Price: $1.7 Million\n",
       "5                    Koenigsegg Gemera          Price: $1.7 Million\n",
       "6                          Zenvo TSR-S          Price: $1.7 Million\n",
       "7                   Hennessey Venom F5          Price: $1.8 Million\n",
       "8                      Bentley Bacalar          Price: $1.9 Million\n",
       "9        Hispano Suiza Carmen Boulogne          Price: $1.9 Million\n",
       "10              Bentley Mulliner Batur          Price: $2.0 Million\n",
       "11                        Deus Vayanne          Price: $2.0 Million\n",
       "12                         SSC Tuatara          Price: $2.0 Million\n",
       "13                         Lotus Evija          Price: $2.1 Million\n",
       "14                 Aston Martin Vulcan          Price: $2.3 Million\n",
       "15                          Delage D12          Price: $2.3 Million\n",
       "16                 Ferrari Daytona SP3          Price: $2.3 Million\n",
       "17                   McLaren Speedtail          Price: $2.3 Million\n",
       "18                        Rimac Nevera          Price: $2.4 Million\n",
       "19                       Pagani Utopia          Price: $2.5 Million\n",
       "20                Pininfarina Battista          Price: $2.5 Million\n",
       "21                  Gordon Murray T.50          Price: $2.6 Million\n",
       "22                Lamborghini Countach          Price: $2.6 Million\n",
       "23            Mercedes-AMG Project One          Price: $2.7 Million\n",
       "24                        Zenvo Aurora          Price: $2.8 Million\n",
       "25                 Aston Martin Victor          Price: $3.0 Million\n",
       "26         Hennessey Venom F5 Roadster                 $3.0 Million\n",
       "27                    Koenigsegg Jesko          Price: $3.0 Million\n",
       "28               Aston Martin Valkyrie          Price: $3.2 Million\n",
       "29           W Motors Lykan Hypersport          Price: $3.4 Million\n",
       "30                       McLaren Solus                 $3.5 Million\n",
       "31                    Lamborghini Sian          Price: $3.6 million\n",
       "32                    Koenigsegg CC850          Price: $3.7 Million\n",
       "33     Bugatti Chiron Super Sport 300+          Price: $3.9 Million\n",
       "34                  Lamborghini Veneno          Price: $4.5 Million\n",
       "35                      Bugatti Bolide          Price: $4.7 Million\n",
       "36           Pininfarina B95 Speedster          Price: $4.8 Million\n",
       "37                     Bugatti Mistral          Price: $5.0 Million\n",
       "38                 Pagani Huayra Imola          Price: $5.4 Million\n",
       "39                        Bugatti Divo          Price: $5.8 Million\n",
       "40                 SP Automotive Chaos          Price: $6.4 Million\n",
       "41                    Pagani Codalunga          Price: $7.4 Million\n",
       "42                        777 Hypercar          Price: $7.5 Million\n",
       "43            Mercedes-Maybach Exelero          Price: $8.0 Million\n",
       "44                  Bugatti Centodieci          Price: $9.0 Million\n",
       "45             Bugatti Chiron Profilée         Price: $10.8 Million\n",
       "46                Rolls-Royce Sweptail         Price: $12.8 Million\n",
       "47            Bugatti La Voiture Noire         Price: $13.4 Million\n",
       "48              Rolls-Royce Boat Tail*  Price: $28.0 Million (est.)\n",
       "49  Rolls-Royce La Rose Noire Droptail    Price: $30 Million (est.)"
      ]
     },
     "execution_count": 155,
     "metadata": {},
     "output_type": "execute_result"
    }
   ],
   "source": [
    "#creating DataFrame\n",
    "\n",
    "cars=pd.DataFrame({'Car_Name':car_name,'Car_Price':car_price})\n",
    "cars"
   ]
  },
  {
   "cell_type": "code",
   "execution_count": null,
   "id": "76c59d5c",
   "metadata": {},
   "outputs": [],
   "source": []
  }
 ],
 "metadata": {
  "kernelspec": {
   "display_name": "Python 3 (ipykernel)",
   "language": "python",
   "name": "python3"
  },
  "language_info": {
   "codemirror_mode": {
    "name": "ipython",
    "version": 3
   },
   "file_extension": ".py",
   "mimetype": "text/x-python",
   "name": "python",
   "nbconvert_exporter": "python",
   "pygments_lexer": "ipython3",
   "version": "3.10.9"
  }
 },
 "nbformat": 4,
 "nbformat_minor": 5
}
