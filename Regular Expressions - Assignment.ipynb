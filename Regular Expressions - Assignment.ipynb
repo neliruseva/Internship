{
 "cells": [
  {
   "cell_type": "code",
   "execution_count": 1,
   "id": "46c04251",
   "metadata": {},
   "outputs": [],
   "source": [
    "import pandas as pd\n",
    "import numpy as np\n",
    "import regex as re\n"
   ]
  },
  {
   "cell_type": "code",
   "execution_count": 3,
   "id": "35e379e3",
   "metadata": {},
   "outputs": [
    {
     "name": "stdout",
     "output_type": "stream",
     "text": [
      "Python:Exercises::PHP:exercises:\n"
     ]
    }
   ],
   "source": [
    "#Question 1\n",
    "\n",
    "Sample_Text='Python Exercises, PHP exercises.'\n",
    "\n",
    "x=re.sub(\"[ ,.]\",\":\",Sample_Text)\n",
    "\n",
    "print(x)"
   ]
  },
  {
   "cell_type": "code",
   "execution_count": 4,
   "id": "9b036185",
   "metadata": {},
   "outputs": [
    {
     "name": "stdout",
     "output_type": "stream",
     "text": [
      "['animals', 'are', 'elephants']\n"
     ]
    }
   ],
   "source": [
    "#Question 2\n",
    "\n",
    "string1='Chester zoo has many animals. There are elephants, Aligatorts, Emperor penguin.'\n",
    "\n",
    "y=re.findall(r'\\b[ae]\\w*',string1)\n",
    "\n",
    "print(y)"
   ]
  },
  {
   "cell_type": "code",
   "execution_count": 6,
   "id": "a2da73fe",
   "metadata": {},
   "outputs": [
    {
     "name": "stdout",
     "output_type": "stream",
     "text": [
      "['This', 'meal', 'plan', 'provides', 'balance', 'protein', 'fiber', 'essential', 'nutrients', 'while', 'staying', 'within', '1600', 'calorie', 'limit']\n"
     ]
    }
   ],
   "source": [
    "#Question 3\n",
    "\n",
    "string2='This meal plan provides a balance of protein, fiber, and essential nutrients while staying within the 1600-calorie limit.'\n",
    "\n",
    "pattern = re.compile(r'\\w{4,}')\n",
    "\n",
    "z=re.findall(pattern,string2)\n",
    "\n",
    "print(z)"
   ]
  },
  {
   "cell_type": "code",
   "execution_count": 7,
   "id": "bebfb381",
   "metadata": {},
   "outputs": [
    {
     "name": "stdout",
     "output_type": "stream",
     "text": [
      "['This', 'meal', 'plan', 'fiber', 'and', 'while', 'the', '1600', 'limit']\n"
     ]
    }
   ],
   "source": [
    "#Question 4\n",
    "\n",
    "string3='This meal plan provides a balance of protein, fiber, and essential nutrients while staying within the 1600-calorie limit.'\n",
    "\n",
    "pattern = re.compile(r'\\b\\w{3,5}\\b')\n",
    "\n",
    "a=re.findall(pattern, string3)\n",
    "\n",
    "print(a)"
   ]
  },
  {
   "cell_type": "code",
   "execution_count": 16,
   "id": "62531544",
   "metadata": {},
   "outputs": [
    {
     "name": "stdout",
     "output_type": "stream",
     "text": [
      "\"example .com\", \"hr@fliprobo .com\", \"github .com\", \"Hello Data Science World\", \"Data Scientist\"\n"
     ]
    }
   ],
   "source": [
    "#Question 5\n",
    "\n",
    "SampleText ='\"example (.com)\", \"hr@fliprobo (.com)\", \"github (.com)\", \"Hello (Data Science World)\", \"Data (Scientist)\"'\n",
    "\n",
    "pattern = re.compile(r\"[\\(\\)]\")\n",
    "\n",
    "b= re.sub(pattern,'', SampleText)\n",
    "\n",
    "print(b)"
   ]
  },
  {
   "cell_type": "code",
   "execution_count": 17,
   "id": "82047b8d",
   "metadata": {},
   "outputs": [
    {
     "name": "stdout",
     "output_type": "stream",
     "text": [
      "\"example \", \"hr@fliprobo \", \"github \", \"Hello \", \"Data \"\n"
     ]
    }
   ],
   "source": [
    "#Question 6\n",
    "\n",
    "SampleText ='\"example (.com)\", \"hr@fliprobo (.com)\", \"github (.com)\", \"Hello (Data Science World)\", \"Data (Scientist)\"'\n",
    "\n",
    "pattern = re.compile(r'\\([^)]*\\)')\n",
    "\n",
    "c= re.sub(pattern,'', SampleText)\n",
    "\n",
    "print(c)"
   ]
  },
  {
   "cell_type": "code",
   "execution_count": 9,
   "id": "01233902",
   "metadata": {},
   "outputs": [
    {
     "name": "stdout",
     "output_type": "stream",
     "text": [
      "['Importance', 'Of', 'Regular', 'Expressions', 'In', 'Python']\n"
     ]
    }
   ],
   "source": [
    "#Question 7\n",
    "\n",
    "Sample_text = 'ImportanceOfRegularExpressionsInPython'\n",
    "\n",
    "d=re.findall('[A-Z][^A-Z]*', Sample_text)\n",
    "\n",
    "#initially I have tried with split but the pattern which is splitting it`s not included in the output and I was getting ''\n",
    "\n",
    "print(d)"
   ]
  },
  {
   "cell_type": "code",
   "execution_count": 11,
   "id": "50cf3124",
   "metadata": {},
   "outputs": [
    {
     "name": "stdout",
     "output_type": "stream",
     "text": [
      "RegularExpression 1IsAn 2ImportantTopic 3InPython\n"
     ]
    }
   ],
   "source": [
    "#Question 8\n",
    "\n",
    "def func(string):\n",
    "    result_string = re.sub(r'([a-zA-Z])(\\d)', r'\\1 \\2', string)\n",
    "    return result_string\n",
    "\n",
    "sample_text = \"RegularExpression1IsAn2ImportantTopic3InPython\"\n",
    "\n",
    "result = func(sample_text)\n",
    "\n",
    "print(result)"
   ]
  },
  {
   "cell_type": "code",
   "execution_count": 18,
   "id": "89fbc23f",
   "metadata": {},
   "outputs": [
    {
     "name": "stdout",
     "output_type": "stream",
     "text": [
      "RegularExpression1 IsAn2 ImportantTopic3 InPython\n"
     ]
    }
   ],
   "source": [
    "#Question 9!!!!!!!!!!!!!!!!!!!!!!\n",
    "\n",
    "def func1(string):\n",
    "    result_string = re.sub(r'([A-Z0-9])([A-Z])', r'\\1 \\2', string)\n",
    "    return result_string\n",
    "\n",
    "sample_text = \"RegularExpression1IsAn2ImportantTopic3InPython\"\n",
    "\n",
    "result1 = func1(sample_text)\n",
    "\n",
    "print(result1)"
   ]
  },
  {
   "cell_type": "code",
   "execution_count": 21,
   "id": "131183a5",
   "metadata": {},
   "outputs": [
    {
     "name": "stdout",
     "output_type": "stream",
     "text": [
      "['xyz@domain.com', 'xyz.abc@sdomain.domain.com']\n",
      "['hr@fliprobo.com']\n"
     ]
    }
   ],
   "source": [
    "#Question 10\n",
    "\n",
    "with open(\"D:\\Data Science - DataTrained\\Internship\\Emails.txt\") as file:\n",
    "    for line in file:\n",
    "        pattern='[a-zA-Z0-9._%+-]+@[a-zA-Z0-9.-]+\\.[a-zA-Z]{2,}'\n",
    "        urls=re.findall(pattern,line)\n",
    "        print(urls)"
   ]
  },
  {
   "cell_type": "code",
   "execution_count": 38,
   "id": "f833f056",
   "metadata": {},
   "outputs": [
    {
     "name": "stdout",
     "output_type": "stream",
     "text": [
      "Match Found\n",
      "Match Found\n",
      "Match Found\n",
      "Match not Found\n"
     ]
    }
   ],
   "source": [
    "#Question 11\n",
    "\n",
    "def match_string(input_string):\n",
    "    pattern= '^[a-zA-Z0-9_]*$'\n",
    "    \n",
    "    if re.match(pattern, input_string):\n",
    "        return True\n",
    "    else:\n",
    "        return False\n",
    "    \n",
    "sample_strings = [\"Hello_123\", \"Banana_Apples\", \"1A2b3c4D\", \"check if the input string matches the pattern\"]\n",
    "\n",
    "for string in sample_strings:\n",
    "    if match_string(string):\n",
    "        print(\"Match Found\")\n",
    "    else:\n",
    "        print(\"Match not Found\")"
   ]
  },
  {
   "cell_type": "code",
   "execution_count": 41,
   "id": "afd52f14",
   "metadata": {},
   "outputs": [
    {
     "name": "stdout",
     "output_type": "stream",
     "text": [
      "Match\n"
     ]
    }
   ],
   "source": [
    "#Question 12\n",
    "\n",
    "def func2 (string):\n",
    "    pattern = re.compile(f'^{71}')\n",
    "    \n",
    "    if pattern.match(string):\n",
    "        return True\n",
    "    else:\n",
    "        return False\n",
    "    \n",
    "sample = '71 people were rescued from the sinking ferry by the Latvian helicopter crew.'\n",
    "\n",
    "if func2 (sample):\n",
    "    print (\"Match\")\n",
    "    \n",
    "else:\n",
    "    print(\"No Match\")\n",
    "    "
   ]
  },
  {
   "cell_type": "code",
   "execution_count": 46,
   "id": "a0168821",
   "metadata": {},
   "outputs": [
    {
     "name": "stdout",
     "output_type": "stream",
     "text": [
      "192.1.2.3\n",
      "192.1.5.7\n"
     ]
    }
   ],
   "source": [
    "#Question 13\n",
    "\n",
    "def remove_zeroes(ip_address):\n",
    "    no_zeroes=re.sub(r'\\b0+(\\d+)\\b', r'\\1', ip_address)\n",
    "    return no_zeroes\n",
    "\n",
    "ip1 = \"192.001.002.003\"\n",
    "print(remove_zeroes(ip1))\n",
    "\n",
    "ip2 = \"192.001.005.007\"\n",
    "print(remove_zeroes(ip2))\n",
    "    "
   ]
  },
  {
   "cell_type": "code",
   "execution_count": 23,
   "id": "4c040431",
   "metadata": {},
   "outputs": [
    {
     "name": "stdout",
     "output_type": "stream",
     "text": [
      "[('August 15th 1947', 'th')]\n"
     ]
    }
   ],
   "source": [
    "#Question 14\n",
    "\n",
    "with open(\"D:\\Data Science - DataTrained\\Internship\\Date.txt\") as file:\n",
    "    for line in file:\n",
    "        date_pattern= r'([A-Z][a-z]+ \\d+(st|nd|rd|th) \\d{4})'\n",
    "        match_date=re.findall(date_pattern,line)\n",
    "        print(match_date)"
   ]
  },
  {
   "cell_type": "code",
   "execution_count": 26,
   "id": "376307ad",
   "metadata": {},
   "outputs": [
    {
     "name": "stdout",
     "output_type": "stream",
     "text": [
      "'fox' was found in the text\n",
      "'dog' was found in the text\n",
      "'horse' was not found in the text\n"
     ]
    }
   ],
   "source": [
    "#Question 15\n",
    "\n",
    "sample_text = 'The quick brown fox jumps over the lazy dog.'\n",
    "\n",
    "searched_words = ['fox', 'dog', 'horse']\n",
    "\n",
    "for word in searched_words:\n",
    "    if word in sample_text:\n",
    "        print(f\"'{word}' was found in the text\")\n",
    "    else:\n",
    "        print(f\"'{word}' was not found in the text\")"
   ]
  },
  {
   "cell_type": "code",
   "execution_count": 28,
   "id": "718780c0",
   "metadata": {},
   "outputs": [
    {
     "name": "stdout",
     "output_type": "stream",
     "text": [
      "<re.Match object; span=(16, 19), match='fox'>\n"
     ]
    }
   ],
   "source": [
    "#Question 16\n",
    "\n",
    "sample_text = 'The quick brown fox jumps over the lazy dog.'\n",
    "\n",
    "searched_word ='fox'\n",
    "\n",
    "result = re.search(searched_word,sample_text)\n",
    "\n",
    "print(result)"
   ]
  },
  {
   "cell_type": "code",
   "execution_count": 30,
   "id": "31ab3db2",
   "metadata": {},
   "outputs": [
    {
     "name": "stdout",
     "output_type": "stream",
     "text": [
      "['exercises', 'exercises', 'exercises']\n"
     ]
    }
   ],
   "source": [
    "#Question 17\n",
    "\n",
    "Sample_text = 'Python exercises, PHP exercises, C# exercises'\n",
    "\n",
    "Pattern = 'exercises'\n",
    "\n",
    "result = re.findall(Pattern, Sample_text)\n",
    "\n",
    "print(result)"
   ]
  },
  {
   "cell_type": "code",
   "execution_count": 3,
   "id": "a8f55a6e",
   "metadata": {},
   "outputs": [
    {
     "name": "stdout",
     "output_type": "stream",
     "text": [
      "<regex.Match object; span=(7, 16), match='exercises'>\n",
      "exercises\n",
      "<regex.Match object; span=(22, 31), match='exercises'>\n",
      "exercises\n",
      "<regex.Match object; span=(36, 45), match='exercises'>\n",
      "exercises\n"
     ]
    }
   ],
   "source": [
    "#Question 18\n",
    "\n",
    "Sample_text = 'Python exercises, PHP exercises, C# exercises'\n",
    "\n",
    "Pattern ='exercises'\n",
    "\n",
    "result = re.finditer(Pattern, Sample_text)\n",
    "\n",
    "for match_obj in result:\n",
    "    print(match_obj)\n",
    "    print(match_obj.group())"
   ]
  },
  {
   "cell_type": "code",
   "execution_count": 10,
   "id": "83f7af68",
   "metadata": {},
   "outputs": [
    {
     "name": "stdout",
     "output_type": "stream",
     "text": [
      "Original date is: 2023-10-07\n",
      "Converted date is: 07-10-2023\n"
     ]
    }
   ],
   "source": [
    "#Question 19\n",
    "\n",
    "def func(date_string):\n",
    "    yyyy_mm_dd = r'(\\d{4})-(\\d{2})-(\\d{2})'\n",
    "    dd_mm_yyyy = re.sub(yyyy_mm_dd, r'\\3-\\2-\\1', date_string)\n",
    "    return dd_mm_yyyy\n",
    "\n",
    "sample_date = '2023-10-07'\n",
    "\n",
    "dd_mm_yyyy = func(sample_date)\n",
    "\n",
    "print('Original date is:', sample_date)\n",
    "print('Converted date is:', dd_mm_yyyy)"
   ]
  },
  {
   "cell_type": "code",
   "execution_count": 11,
   "id": "92f6fcbb",
   "metadata": {},
   "outputs": [
    {
     "name": "stdout",
     "output_type": "stream",
     "text": [
      "['01.12', '145.8', '3.01', '27.25', '0.25']\n"
     ]
    }
   ],
   "source": [
    "#Question 20\n",
    "\n",
    "def find_decimal_numbers(numbers):\n",
    "    pattern = re.compile(r'\\b\\d+\\.\\d{1,2}\\b')\n",
    "    decimal_numbers = pattern.findall(numbers)\n",
    "    return decimal_numbers\n",
    "\n",
    "sample_text = \"01.12 0132.123 2.31875 145.8 3.01 27.25 0.25\"\n",
    "results = find_decimal_numbers(sample_text)\n",
    "\n",
    "print(results)"
   ]
  },
  {
   "cell_type": "code",
   "execution_count": 13,
   "id": "942125d6",
   "metadata": {},
   "outputs": [
    {
     "name": "stdout",
     "output_type": "stream",
     "text": [
      "<regex.Match object; span=(10, 11), match='7'>\n",
      "7\n",
      "<regex.Match object; span=(26, 27), match='1'>\n",
      "1\n",
      "<regex.Match object; span=(28, 30), match='09'>\n",
      "09\n",
      "<regex.Match object; span=(45, 46), match='1'>\n",
      "1\n",
      "<regex.Match object; span=(47, 49), match='39'>\n",
      "39\n",
      "<regex.Match object; span=(64, 65), match='6'>\n",
      "6\n"
     ]
    }
   ],
   "source": [
    "#Question 21\n",
    "\n",
    "string = \"A pack of 7 bananas cost £1.09, apples cost £1.39 for a pack of 6.\"\n",
    "\n",
    "pattern = re.compile(r'\\d+')\n",
    "\n",
    "result = re.finditer(pattern, string)\n",
    "    \n",
    "for match_numbers in result:\n",
    "        print(match_numbers)\n",
    "        print(match_numbers.group())"
   ]
  },
  {
   "cell_type": "code",
   "execution_count": 16,
   "id": "abb50be9",
   "metadata": {},
   "outputs": [
    {
     "name": "stdout",
     "output_type": "stream",
     "text": [
      "950\n"
     ]
    }
   ],
   "source": [
    "#Question 22\n",
    "\n",
    "sample_text = 'My marks in each semester are: 947, 896, 926, 524, 734, 950, 642'\n",
    "\n",
    "pattern = r'\\d+'\n",
    "\n",
    "numeric_values = re.findall(pattern, sample_text)\n",
    "\n",
    "max_value = max(numeric_values)\n",
    "\n",
    "print(max_value)"
   ]
  },
  {
   "cell_type": "code",
   "execution_count": 18,
   "id": "f3e3a47b",
   "metadata": {},
   "outputs": [
    {
     "name": "stdout",
     "output_type": "stream",
     "text": [
      "Regular Expression Is An Important Topic In Python\n"
     ]
    }
   ],
   "source": [
    "#Question 23\n",
    "\n",
    "sample_text = \"RegularExpressionIsAnImportantTopicInPython\"\n",
    "\n",
    "def insert_spaces(string):\n",
    "    pattern = re.sub(r\"(\\w)([A-Z])\", r\"\\1 \\2\", string)\n",
    "    return pattern\n",
    "\n",
    "result = insert_spaces(sample_text)\n",
    "\n",
    "print(result)"
   ]
  },
  {
   "cell_type": "code",
   "execution_count": 20,
   "id": "3bf33216",
   "metadata": {},
   "outputs": [
    {
     "name": "stdout",
     "output_type": "stream",
     "text": [
      "['There', 'Friend', 'Loyal', 'Book']\n"
     ]
    }
   ],
   "source": [
    "#Question 24\n",
    "\n",
    "string = 'There is no Friend as Loyal as a Book.'\n",
    "\n",
    "pattern = r'[A-Z][a-z]+'\n",
    "\n",
    "result = re.findall(pattern, string)\n",
    "\n",
    "print(result)"
   ]
  },
  {
   "cell_type": "code",
   "execution_count": 24,
   "id": "829c875d",
   "metadata": {},
   "outputs": [
    {
     "name": "stdout",
     "output_type": "stream",
     "text": [
      "Hello hello world\n"
     ]
    }
   ],
   "source": [
    "#Question 25\n",
    "\n",
    "def func3(string):\n",
    "    pattern = re.sub(r'\\b(\\w+)\\s+\\1\\b', r'\\1', string)\n",
    "    return pattern\n",
    "\n",
    "sample_text = \"Hello hello world world\"\n",
    "result = func3(sample_text)\n",
    "\n",
    "print(result)"
   ]
  },
  {
   "cell_type": "code",
   "execution_count": 26,
   "id": "21dd8f6e",
   "metadata": {},
   "outputs": [
    {
     "name": "stdout",
     "output_type": "stream",
     "text": [
      "Ends with alphanumeric character: ABC123abc\n",
      "Ends with alphanumeric character: 2bananas\n",
      "Does not ends with alphanumeric character: Welcome!\n",
      "Does not ends with alphanumeric character: what?\n",
      "Ends with alphanumeric character: apples3\n"
     ]
    }
   ],
   "source": [
    "#Question 26\n",
    "\n",
    "def func4(string):\n",
    "    pattern = r'^.*[a-zA-Z0-9]$'\n",
    "    result = re.match(pattern, string)\n",
    "    return result\n",
    "\n",
    "text = 'ABC123abc', '2bananas', 'Welcome!', 'what?', 'apples3'\n",
    "\n",
    "for i in text:\n",
    "    if func4(i):\n",
    "        print(\"Ends with alphanumeric character:\", i)\n",
    "        \n",
    "    else:\n",
    "        print(\"Does not ends with alphanumeric character:\", i)\n",
    "        "
   ]
  },
  {
   "cell_type": "code",
   "execution_count": 28,
   "id": "0a2d3f8a",
   "metadata": {},
   "outputs": [
    {
     "name": "stdout",
     "output_type": "stream",
     "text": [
      "['#Doltiwal', '#xyzabc', '#Demonetization']\n"
     ]
    }
   ],
   "source": [
    "#Question 27\n",
    "\n",
    "def func5(text):\n",
    "    pattern = r'#\\w+'\n",
    "    result_func5 = re.findall(pattern, text)\n",
    "    return result_func5\n",
    "\n",
    "sample_text = \"\"\"RT @kapil_kausik: #Doltiwal I mean #xyzabc is \"hurt\" by #Demonetization as the same has rendered USELESS <ed><U+00A0><U+00BD><ed><U+00B1><U+0089> \"acquired funds\" No wo\"\"\"\n",
    "\n",
    "result = func5(sample_text)\n",
    "\n",
    "print(result)"
   ]
  },
  {
   "cell_type": "code",
   "execution_count": 32,
   "id": "2f22d1a0",
   "metadata": {},
   "outputs": [
    {
     "name": "stdout",
     "output_type": "stream",
     "text": [
      "@Jags123456 Bharat band on 28??<ed><ed>Those who  are protesting #demonetization  are all different party leaders\n"
     ]
    }
   ],
   "source": [
    "#Question 28\n",
    "\n",
    "def func6(text):\n",
    "    pattern = r'<U\\+[0-9A-Fa-f]+>'\n",
    "    result_func6 = re.sub(pattern, '', text)\n",
    "    return result_func6\n",
    "\n",
    "sample_text = \"@Jags123456 Bharat band on 28??<ed><U+00A0><U+00BD><ed><U+00B8><U+0082>Those who  are protesting #demonetization  are all different party leaders\"\n",
    "\n",
    "result = func6(sample_text)\n",
    "\n",
    "print(result)\n",
    "\n",
    "\n"
   ]
  },
  {
   "cell_type": "code",
   "execution_count": 34,
   "id": "1cf5a8b1",
   "metadata": {},
   "outputs": [
    {
     "name": "stdout",
     "output_type": "stream",
     "text": [
      "['12-09-1992', '15-12-1999']\n"
     ]
    }
   ],
   "source": [
    "#Question 29\n",
    "\n",
    "with open(\"D:\\Data Science - DataTrained\\Internship\\Dates.txt\") as file:\n",
    "    for line in file:\n",
    "        pattern = r'\\b(\\d{2}-\\d{2}-\\d{4})\\b'\n",
    "        dates = re.findall(pattern, line)\n",
    "        print(dates)"
   ]
  },
  {
   "cell_type": "code",
   "execution_count": 36,
   "id": "356c0c3f",
   "metadata": {},
   "outputs": [
    {
     "name": "stdout",
     "output_type": "stream",
     "text": [
      " following example creates  ArrayList  a capacity   elements. 4 elements   added   ArrayList   ArrayList  trimmed accordingly.\n"
     ]
    }
   ],
   "source": [
    "#Question 30\n",
    "\n",
    "def func7(text):\n",
    "    pattern = re.compile(r'\\b\\w{2,4}\\b')\n",
    "    result_func7 = re.sub(pattern, '', text)\n",
    "    return result_func7\n",
    "\n",
    "sample_text = \"The following example creates an ArrayList with a capacity of 50 elements. 4 elements are then added to the ArrayList and the ArrayList is trimmed accordingly.\"\n",
    "result = func7(sample_text)\n",
    "\n",
    "print(result)\n"
   ]
  },
  {
   "cell_type": "code",
   "execution_count": null,
   "id": "a5d23640",
   "metadata": {},
   "outputs": [],
   "source": []
  }
 ],
 "metadata": {
  "kernelspec": {
   "display_name": "Python 3 (ipykernel)",
   "language": "python",
   "name": "python3"
  },
  "language_info": {
   "codemirror_mode": {
    "name": "ipython",
    "version": 3
   },
   "file_extension": ".py",
   "mimetype": "text/x-python",
   "name": "python",
   "nbconvert_exporter": "python",
   "pygments_lexer": "ipython3",
   "version": "3.10.9"
  }
 },
 "nbformat": 4,
 "nbformat_minor": 5
}
